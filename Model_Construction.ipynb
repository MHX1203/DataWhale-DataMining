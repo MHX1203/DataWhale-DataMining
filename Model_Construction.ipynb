{
  "nbformat": 4,
  "nbformat_minor": 0,
  "metadata": {
    "colab": {
      "name": "Model Construction.ipynb",
      "provenance": [],
      "collapsed_sections": [],
      "mount_file_id": "14p4yjvv0ykXD7Vlo4okBZB4RIYkCF0Oz",
      "authorship_tag": "ABX9TyNl3T4UCxb69+MPwQhfCWSH",
      "include_colab_link": true
    },
    "kernelspec": {
      "name": "python3",
      "display_name": "Python 3"
    }
  },
  "cells": [
    {
      "cell_type": "markdown",
      "metadata": {
        "id": "view-in-github",
        "colab_type": "text"
      },
      "source": [
        "<a href=\"https://colab.research.google.com/github/MHX1203/DataWhale-DataMining/blob/master/Model_Construction.ipynb\" target=\"_parent\"><img src=\"https://colab.research.google.com/assets/colab-badge.svg\" alt=\"Open In Colab\"/></a>"
      ]
    },
    {
      "cell_type": "code",
      "metadata": {
        "id": "1fLNOCwxbzw1",
        "colab_type": "code",
        "colab": {}
      },
      "source": [
        "import numpy as np\n",
        "import pandas as pd\n",
        "import os\n",
        "from sklearn.feature_selection import SelectFromModel\n",
        "from sklearn.model_selection import train_test_split\n",
        "import matplotlib.pyplot as plt\n",
        "import seaborn as sns\n",
        "pd.set_option('display.max_columns', 200)\n",
        "sns.set_style('white')\n",
        "from sklearn.ensemble import RandomForestRegressor, GradientBoostingRegressor, AdaBoostRegressor, BaggingRegressor\n",
        "from sklearn.kernel_ridge import KernelRidge\n",
        "from sklearn.linear_model import Ridge, RidgeCV\n",
        "from sklearn.linear_model import ElasticNet, ElasticNetCV\n",
        "from sklearn.svm import SVR\n",
        "from mlxtend.regressor import StackingCVRegressor\n",
        "import lightgbm as lgb\n",
        "from lightgbm import LGBMRegressor\n",
        "from xgboost import XGBRegressor\n",
        "\n",
        "# Stats\n",
        "from scipy.stats import skew, norm\n",
        "from scipy.special import boxcox1p\n",
        "from scipy.stats import boxcox_normmax\n",
        "\n",
        "# Misc\n",
        "from sklearn.model_selection import GridSearchCV\n",
        "from sklearn.model_selection import KFold, cross_val_score\n",
        "from sklearn.metrics import mean_squared_error\n",
        "from sklearn.preprocessing import OneHotEncoder\n",
        "from sklearn.preprocessing import LabelEncoder\n",
        "from sklearn.pipeline import make_pipeline\n",
        "from sklearn.preprocessing import scale\n",
        "from sklearn.preprocessing import StandardScaler\n",
        "from sklearn.preprocessing import RobustScaler\n",
        "from sklearn.decomposition import PCA\n",
        "import pandas_profiling\n",
        "pd.set_option('mode.chained_assignment', None)\n",
        "%matplotlib inline"
      ],
      "execution_count": 0,
      "outputs": []
    },
    {
      "cell_type": "code",
      "metadata": {
        "id": "OVSqXusrc_C8",
        "colab_type": "code",
        "outputId": "e9860947-1cd7-42db-b5e3-860af3d27bba",
        "colab": {
          "base_uri": "https://localhost:8080/",
          "height": 33
        }
      },
      "source": [
        "train_data = pd.read_csv('/content/drive/My Drive/Data/used_car_train_20200313.csv', sep=' ')\n",
        "test_data = pd.read_csv('/content/drive/My Drive/Data/used_car_testA_20200313.csv', sep=' ')\n",
        "train_data.shape, test_data.shape"
      ],
      "execution_count": 2,
      "outputs": [
        {
          "output_type": "execute_result",
          "data": {
            "text/plain": [
              "((150000, 31), (50000, 30))"
            ]
          },
          "metadata": {
            "tags": []
          },
          "execution_count": 2
        }
      ]
    },
    {
      "cell_type": "code",
      "metadata": {
        "id": "X-UuVuKudNFg",
        "colab_type": "code",
        "colab": {}
      },
      "source": [
        "# price = train\n",
        "train_data['price'] = np.log1p(train_data['price'])\n",
        "\n",
        "train_data = train_data.dropna(subset=['model'])\n",
        "\n",
        "train_data = train_data[train_data['power'] <= 600]\n",
        "\n"
      ],
      "execution_count": 0,
      "outputs": []
    },
    {
      "cell_type": "code",
      "metadata": {
        "id": "RUPoWxlOeFyO",
        "colab_type": "code",
        "outputId": "e27b1100-1574-41f5-ff28-4d75bbe07559",
        "colab": {
          "base_uri": "https://localhost:8080/",
          "height": 33
        }
      },
      "source": [
        "price = train_data.price\n",
        "del train_data['price']\n",
        "data = pd.concat([train_data, test_data], axis=0)\n",
        "data.shape"
      ],
      "execution_count": 4,
      "outputs": [
        {
          "output_type": "execute_result",
          "data": {
            "text/plain": [
              "(199856, 30)"
            ]
          },
          "metadata": {
            "tags": []
          },
          "execution_count": 4
        }
      ]
    },
    {
      "cell_type": "code",
      "metadata": {
        "id": "Q4LyXhRQdwNU",
        "colab_type": "code",
        "outputId": "ce2fee7b-408a-4065-bf48-c4042480d99a",
        "colab": {
          "base_uri": "https://localhost:8080/",
          "height": 67
        }
      },
      "source": [
        "\"\"\"\n",
        "\n",
        "bodyType, fuelType和gearbox直接填充众数\n",
        "\"\"\"\n",
        "data.loc[data['bodyType'].isnull(), 'bodyType'] = data['bodyType'].mode()[0]\n",
        "print('after handle missing, null value counts in %s: %d'%('bodyType', data['bodyType'].isnull().sum()))\n",
        "\n",
        "data.loc[data['fuelType'].isnull(), 'fuelType'] = data['fuelType'].mode()[0]\n",
        "print('after handle missing, null value counts in %s: %d'%('fuelType', data['fuelType'].isnull().sum()))\n",
        "\n",
        "data.loc[data['gearbox'].isnull(), 'gearbox'] = data['gearbox'].mode()[0]\n",
        "print('after handle missing, null value counts in %s: %d'%('gearbox', data['gearbox'].isnull().sum()))\n",
        "\n",
        "data['notRepairedDamage'] = data['notRepairedDamage'].apply(lambda x: float(x) if x != '-' else 2.0)\n",
        "\n",
        "group_bodyType = data[data['power'] > 0].groupby('bodyType', axis=0).agg('median').reset_index()\n",
        "group_bodyType = group_bodyType.set_index('bodyType')\n",
        "\n",
        "\n",
        "\n",
        "data.power = data.apply(lambda x: x.power if x.power != 0 else group_bodyType.loc[x.bodyType].power, axis=1)\n",
        "\n",
        "data['reg_year'] = data['regDate'].map(lambda x: int(str(x)[:4]))\n",
        "\n",
        "data['create_year'] = data['creatDate'].map(lambda x: int(str(x)[:4]))\n",
        "\n",
        "data['delta_year'] = data['create_year'] - data['reg_year']\n",
        "data['delta_year'] = data['delta_year'].apply(lambda x: 3 if (x // 5) >3 else x // 5)"
      ],
      "execution_count": 5,
      "outputs": [
        {
          "output_type": "stream",
          "text": [
            "after handle missing, null value counts in bodyType: 0\n",
            "after handle missing, null value counts in fuelType: 0\n",
            "after handle missing, null value counts in gearbox: 0\n"
          ],
          "name": "stdout"
        }
      ]
    },
    {
      "cell_type": "code",
      "metadata": {
        "id": "nzM3lRupdBuX",
        "colab_type": "code",
        "colab": {}
      },
      "source": [
        "digit_feats =[col for col in data.columns if col.startswith('v_')]\n",
        "\n",
        "skews = data[digit_feats].skew().sort_values()\n",
        "skew_idx = skews[np.abs(skews) > 0.5].index\n",
        "\n",
        "\n",
        "# 对于存在小于0的特征，先取指数(这里数值较小)，再进行box-cox处理\n",
        "exp_boxcoxs = ['v_14', 'v_11', 'v_2']\n",
        "for col in exp_boxcoxs:\n",
        "  # train_data[col] = np.log1p(train_data[col])\n",
        "  data[col] = boxcox1p(np.exp(data[col]), boxcox_normmax(np.exp(data[col]) + 1))\n",
        "\n",
        "for col in skew_idx:\n",
        "  if col not in exp_boxcoxs:\n",
        "    data[col] = boxcox1p(data[col], boxcox_normmax(data[col] + 1))"
      ],
      "execution_count": 0,
      "outputs": []
    },
    {
      "cell_type": "code",
      "metadata": {
        "id": "2E15VV8DgbTq",
        "colab_type": "code",
        "outputId": "2dc62f13-bee5-4ab7-9341-6b0931f84a07",
        "colab": {
          "base_uri": "https://localhost:8080/",
          "height": 33
        }
      },
      "source": [
        ""
      ],
      "execution_count": 0,
      "outputs": [
        {
          "output_type": "execute_result",
          "data": {
            "text/plain": [
              "(149856, 33)"
            ]
          },
          "metadata": {
            "tags": []
          },
          "execution_count": 8
        }
      ]
    },
    {
      "cell_type": "code",
      "metadata": {
        "id": "1hvPP2vqguHp",
        "colab_type": "code",
        "outputId": "dcc797ac-12a8-4b2b-f5f7-7add2669cd15",
        "colab": {
          "base_uri": "https://localhost:8080/",
          "height": 265
        }
      },
      "source": [
        "\n",
        "plt.hist(train_data['model'], bins=20)\n",
        "plt.show()"
      ],
      "execution_count": 7,
      "outputs": [
        {
          "output_type": "display_data",
          "data": {
            "image/png": "[encoded data removed]",
            "text/plain": [
              "<Figure size 432x288 with 1 Axes>"
            ]
          },
          "metadata": {
            "tags": []
          }
        }
      ]
    },
    {
      "cell_type": "code",
      "metadata": {
        "id": "RVRdarANUiYZ",
        "colab_type": "code",
        "colab": {
          "base_uri": "https://localhost:8080/",
          "height": 33
        },
        "outputId": "3ea36138-b257-47ae-a118-7adf039bf20d"
      },
      "source": [
        "len(np.unique(train_data['model']))"
      ],
      "execution_count": 12,
      "outputs": [
        {
          "output_type": "execute_result",
          "data": {
            "text/plain": [
              "248"
            ]
          },
          "metadata": {
            "tags": []
          },
          "execution_count": 12
        }
      ]
    },
    {
      "cell_type": "code",
      "metadata": {
        "id": "3oU59C6BT5wK",
        "colab_type": "code",
        "colab": {
          "base_uri": "https://localhost:8080/",
          "height": 267
        },
        "outputId": "2c8c44e7-e9e4-4a0a-deb2-c24531bb3d3f"
      },
      "source": [
        "plt.hist(train_data['regionCode'], bins=20)\n",
        "plt.show()"
      ],
      "execution_count": 8,
      "outputs": [
        {
          "output_type": "display_data",
          "data": {
            "image/png": "[encoded data removed]",
            "text/plain": [
              "<Figure size 432x288 with 1 Axes>"
            ]
          },
          "metadata": {
            "tags": []
          }
        }
      ]
    },
    {
      "cell_type": "code",
      "metadata": {
        "id": "Ibp_KzTeUUq0",
        "colab_type": "code",
        "colab": {
          "base_uri": "https://localhost:8080/",
          "height": 33
        },
        "outputId": "e334ad0c-b8b9-4f66-f435-7e05813f3718"
      },
      "source": [
        "len(np.unique(train_data['regionCode']))"
      ],
      "execution_count": 10,
      "outputs": [
        {
          "output_type": "execute_result",
          "data": {
            "text/plain": [
              "7904"
            ]
          },
          "metadata": {
            "tags": []
          },
          "execution_count": 10
        }
      ]
    },
    {
      "cell_type": "code",
      "metadata": {
        "id": "38wLiw9IUJrE",
        "colab_type": "code",
        "colab": {
          "base_uri": "https://localhost:8080/",
          "height": 265
        },
        "outputId": "14b60d4e-4d29-47df-a38b-95a456894d29"
      },
      "source": [
        "plt.hist(train_data['name'], bins=20)\n",
        "plt.show()"
      ],
      "execution_count": 9,
      "outputs": [
        {
          "output_type": "display_data",
          "data": {
            "image/png": "[encoded data removed]",
            "text/plain": [
              "<Figure size 432x288 with 1 Axes>"
            ]
          },
          "metadata": {
            "tags": []
          }
        }
      ]
    },
    {
      "cell_type": "code",
      "metadata": {
        "id": "bqfa-4x_Uehm",
        "colab_type": "code",
        "colab": {
          "base_uri": "https://localhost:8080/",
          "height": 33
        },
        "outputId": "13158911-00eb-4928-f713-6b73163e46fc"
      },
      "source": [
        "len(np.unique(train_data['name']))"
      ],
      "execution_count": 11,
      "outputs": [
        {
          "output_type": "execute_result",
          "data": {
            "text/plain": [
              "99537"
            ]
          },
          "metadata": {
            "tags": []
          },
          "execution_count": 11
        }
      ]
    },
    {
      "cell_type": "code",
      "metadata": {
        "id": "R8r8ZIRDVwuY",
        "colab_type": "code",
        "colab": {
          "base_uri": "https://localhost:8080/",
          "height": 150
        },
        "outputId": "b5ea397a-e085-473c-d73e-f89feb4cb86c"
      },
      "source": [
        "# 猜想相邻区域的编、汽车交易名称、汽车品牌应该具有较小的差异\n",
        "bining_feats = ['regionCode', 'model', 'name']\n",
        "data[bining_feats].info()\n",
        "\n",
        "for col in bining_feats:\n",
        "  # a = data[col].astype('float64')\n",
        "  bins = [np.percentile(data[col], i * 10) for i in range(11)]\n",
        "  # labels = range(10)\n",
        "  data[col] = pd.cut(data[col], bins=bins, labels=False)"
      ],
      "execution_count": 13,
      "outputs": [
        {
          "output_type": "stream",
          "text": [
            "<class 'pandas.core.frame.DataFrame'>\n",
            "Int64Index: 199856 entries, 0 to 49999\n",
            "Data columns (total 3 columns):\n",
            "regionCode    199856 non-null int64\n",
            "model         199856 non-null float64\n",
            "name          199856 non-null int64\n",
            "dtypes: float64(1), int64(2)\n",
            "memory usage: 6.1 MB\n"
          ],
          "name": "stdout"
        }
      ]
    },
    {
      "cell_type": "code",
      "metadata": {
        "id": "dLci_Ef2UOHe",
        "colab_type": "code",
        "colab": {
          "base_uri": "https://localhost:8080/",
          "height": 33
        },
        "outputId": "69b44262-a9d6-4dd7-c3a6-09b8febee5b3"
      },
      "source": [
        "train_data = data[:len(train_data)]\n",
        "train_data.shape"
      ],
      "execution_count": 14,
      "outputs": [
        {
          "output_type": "execute_result",
          "data": {
            "text/plain": [
              "(149856, 33)"
            ]
          },
          "metadata": {
            "tags": []
          },
          "execution_count": 14
        }
      ]
    },
    {
      "cell_type": "code",
      "metadata": {
        "id": "Vq2WFfheWMrS",
        "colab_type": "code",
        "colab": {
          "base_uri": "https://localhost:8080/",
          "height": 365
        },
        "outputId": "d9e7fa4e-cd35-4037-a881-4a7cd3494450"
      },
      "source": [
        "data.head(10)"
      ],
      "execution_count": 15,
      "outputs": [
        {
          "output_type": "execute_result",
          "data": {
            "text/html": [
              "<div>\n",
              "<style scoped>\n",
              "    .dataframe tbody tr th:only-of-type {\n",
              "        vertical-align: middle;\n",
              "    }\n",
              "\n",
              "    .dataframe tbody tr th {\n",
              "        vertical-align: top;\n",
              "    }\n",
              "\n",
              "    .dataframe thead th {\n",
              "        text-align: right;\n",
              "    }\n",
              "</style>\n",
              "<table border=\"1\" class=\"dataframe\">\n",
              "  <thead>\n",
              "    <tr style=\"text-align: right;\">\n",
              "      <th></th>\n",
              "      <th>SaleID</th>\n",
              "      <th>name</th>\n",
              "      <th>regDate</th>\n",
              "      <th>model</th>\n",
              "      <th>brand</th>\n",
              "      <th>bodyType</th>\n",
              "      <th>fuelType</th>\n",
              "      <th>gearbox</th>\n",
              "      <th>power</th>\n",
              "      <th>kilometer</th>\n",
              "      <th>notRepairedDamage</th>\n",
              "      <th>regionCode</th>\n",
              "      <th>seller</th>\n",
              "      <th>offerType</th>\n",
              "      <th>creatDate</th>\n",
              "      <th>v_0</th>\n",
              "      <th>v_1</th>\n",
              "      <th>v_2</th>\n",
              "      <th>v_3</th>\n",
              "      <th>v_4</th>\n",
              "      <th>v_5</th>\n",
              "      <th>v_6</th>\n",
              "      <th>v_7</th>\n",
              "      <th>v_8</th>\n",
              "      <th>v_9</th>\n",
              "      <th>v_10</th>\n",
              "      <th>v_11</th>\n",
              "      <th>v_12</th>\n",
              "      <th>v_13</th>\n",
              "      <th>v_14</th>\n",
              "      <th>reg_year</th>\n",
              "      <th>create_year</th>\n",
              "      <th>delta_year</th>\n",
              "    </tr>\n",
              "  </thead>\n",
              "  <tbody>\n",
              "    <tr>\n",
              "      <th>0</th>\n",
              "      <td>0</td>\n",
              "      <td>0.0</td>\n",
              "      <td>20040402</td>\n",
              "      <td>4.0</td>\n",
              "      <td>6</td>\n",
              "      <td>1.0</td>\n",
              "      <td>0.0</td>\n",
              "      <td>0.0</td>\n",
              "      <td>60.0</td>\n",
              "      <td>12.5</td>\n",
              "      <td>0.0</td>\n",
              "      <td>2.0</td>\n",
              "      <td>0</td>\n",
              "      <td>0</td>\n",
              "      <td>20160404</td>\n",
              "      <td>1.659918e+09</td>\n",
              "      <td>3.966344</td>\n",
              "      <td>0.439570</td>\n",
              "      <td>2.159744</td>\n",
              "      <td>1.143786</td>\n",
              "      <td>35.025022</td>\n",
              "      <td>0.101988</td>\n",
              "      <td>0.079531</td>\n",
              "      <td>0.022816</td>\n",
              "      <td>0.097462</td>\n",
              "      <td>-2.881803</td>\n",
              "      <td>1.245177</td>\n",
              "      <td>-2.420821</td>\n",
              "      <td>0.795292</td>\n",
              "      <td>0.995180</td>\n",
              "      <td>2004</td>\n",
              "      <td>2016</td>\n",
              "      <td>2</td>\n",
              "    </tr>\n",
              "    <tr>\n",
              "      <th>1</th>\n",
              "      <td>1</td>\n",
              "      <td>1.0</td>\n",
              "      <td>20030301</td>\n",
              "      <td>5.0</td>\n",
              "      <td>1</td>\n",
              "      <td>2.0</td>\n",
              "      <td>0.0</td>\n",
              "      <td>0.0</td>\n",
              "      <td>140.0</td>\n",
              "      <td>15.0</td>\n",
              "      <td>2.0</td>\n",
              "      <td>8.0</td>\n",
              "      <td>0</td>\n",
              "      <td>0</td>\n",
              "      <td>20160309</td>\n",
              "      <td>2.154909e+09</td>\n",
              "      <td>5.236112</td>\n",
              "      <td>0.454644</td>\n",
              "      <td>1.380657</td>\n",
              "      <td>-1.422165</td>\n",
              "      <td>76.224076</td>\n",
              "      <td>0.121004</td>\n",
              "      <td>0.081654</td>\n",
              "      <td>0.026597</td>\n",
              "      <td>0.020582</td>\n",
              "      <td>-4.900482</td>\n",
              "      <td>1.131980</td>\n",
              "      <td>-1.030483</td>\n",
              "      <td>-1.722674</td>\n",
              "      <td>0.706615</td>\n",
              "      <td>2003</td>\n",
              "      <td>2016</td>\n",
              "      <td>2</td>\n",
              "    </tr>\n",
              "    <tr>\n",
              "      <th>2</th>\n",
              "      <td>2</td>\n",
              "      <td>2.0</td>\n",
              "      <td>20040403</td>\n",
              "      <td>8.0</td>\n",
              "      <td>15</td>\n",
              "      <td>1.0</td>\n",
              "      <td>0.0</td>\n",
              "      <td>0.0</td>\n",
              "      <td>163.0</td>\n",
              "      <td>12.5</td>\n",
              "      <td>0.0</td>\n",
              "      <td>6.0</td>\n",
              "      <td>0</td>\n",
              "      <td>0</td>\n",
              "      <td>20160402</td>\n",
              "      <td>2.352321e+09</td>\n",
              "      <td>4.823792</td>\n",
              "      <td>0.601589</td>\n",
              "      <td>-0.998467</td>\n",
              "      <td>-0.996911</td>\n",
              "      <td>53.452091</td>\n",
              "      <td>0.114912</td>\n",
              "      <td>0.090514</td>\n",
              "      <td>0.062173</td>\n",
              "      <td>0.027075</td>\n",
              "      <td>-4.846749</td>\n",
              "      <td>1.071392</td>\n",
              "      <td>1.565330</td>\n",
              "      <td>-0.832687</td>\n",
              "      <td>0.524117</td>\n",
              "      <td>2004</td>\n",
              "      <td>2016</td>\n",
              "      <td>2</td>\n",
              "    </tr>\n",
              "    <tr>\n",
              "      <th>3</th>\n",
              "      <td>3</td>\n",
              "      <td>5.0</td>\n",
              "      <td>19960908</td>\n",
              "      <td>8.0</td>\n",
              "      <td>10</td>\n",
              "      <td>0.0</td>\n",
              "      <td>0.0</td>\n",
              "      <td>1.0</td>\n",
              "      <td>193.0</td>\n",
              "      <td>15.0</td>\n",
              "      <td>0.0</td>\n",
              "      <td>1.0</td>\n",
              "      <td>0</td>\n",
              "      <td>0</td>\n",
              "      <td>20160312</td>\n",
              "      <td>2.265232e+09</td>\n",
              "      <td>4.492574</td>\n",
              "      <td>0.421762</td>\n",
              "      <td>0.883600</td>\n",
              "      <td>-2.228079</td>\n",
              "      <td>97.906422</td>\n",
              "      <td>0.110300</td>\n",
              "      <td>0.076785</td>\n",
              "      <td>0.033395</td>\n",
              "      <td>0.000000</td>\n",
              "      <td>-4.509599</td>\n",
              "      <td>0.943502</td>\n",
              "      <td>-0.501868</td>\n",
              "      <td>-2.438353</td>\n",
              "      <td>0.440417</td>\n",
              "      <td>1996</td>\n",
              "      <td>2016</td>\n",
              "      <td>3</td>\n",
              "    </tr>\n",
              "    <tr>\n",
              "      <th>4</th>\n",
              "      <td>4</td>\n",
              "      <td>7.0</td>\n",
              "      <td>20120103</td>\n",
              "      <td>8.0</td>\n",
              "      <td>5</td>\n",
              "      <td>1.0</td>\n",
              "      <td>0.0</td>\n",
              "      <td>0.0</td>\n",
              "      <td>68.0</td>\n",
              "      <td>5.0</td>\n",
              "      <td>0.0</td>\n",
              "      <td>9.0</td>\n",
              "      <td>0</td>\n",
              "      <td>0</td>\n",
              "      <td>20160313</td>\n",
              "      <td>1.907170e+09</td>\n",
              "      <td>2.031433</td>\n",
              "      <td>0.521884</td>\n",
              "      <td>-1.571239</td>\n",
              "      <td>2.246088</td>\n",
              "      <td>28.468486</td>\n",
              "      <td>0.073205</td>\n",
              "      <td>0.064169</td>\n",
              "      <td>0.078819</td>\n",
              "      <td>0.121534</td>\n",
              "      <td>-1.896240</td>\n",
              "      <td>0.835916</td>\n",
              "      <td>0.931110</td>\n",
              "      <td>2.834518</td>\n",
              "      <td>1.426545</td>\n",
              "      <td>2012</td>\n",
              "      <td>2016</td>\n",
              "      <td>0</td>\n",
              "    </tr>\n",
              "    <tr>\n",
              "      <th>5</th>\n",
              "      <td>5</td>\n",
              "      <td>8.0</td>\n",
              "      <td>20090602</td>\n",
              "      <td>4.0</td>\n",
              "      <td>10</td>\n",
              "      <td>0.0</td>\n",
              "      <td>1.0</td>\n",
              "      <td>0.0</td>\n",
              "      <td>109.0</td>\n",
              "      <td>10.0</td>\n",
              "      <td>0.0</td>\n",
              "      <td>7.0</td>\n",
              "      <td>0</td>\n",
              "      <td>0</td>\n",
              "      <td>20160319</td>\n",
              "      <td>2.459161e+09</td>\n",
              "      <td>-3.229285</td>\n",
              "      <td>0.457803</td>\n",
              "      <td>-1.727217</td>\n",
              "      <td>-0.345690</td>\n",
              "      <td>67.613973</td>\n",
              "      <td>0.000518</td>\n",
              "      <td>0.075986</td>\n",
              "      <td>0.090922</td>\n",
              "      <td>0.048769</td>\n",
              "      <td>1.885526</td>\n",
              "      <td>0.062292</td>\n",
              "      <td>2.457660</td>\n",
              "      <td>-0.286973</td>\n",
              "      <td>0.690725</td>\n",
              "      <td>2009</td>\n",
              "      <td>2016</td>\n",
              "      <td>1</td>\n",
              "    </tr>\n",
              "    <tr>\n",
              "      <th>6</th>\n",
              "      <td>6</td>\n",
              "      <td>1.0</td>\n",
              "      <td>19990411</td>\n",
              "      <td>2.0</td>\n",
              "      <td>4</td>\n",
              "      <td>0.0</td>\n",
              "      <td>0.0</td>\n",
              "      <td>1.0</td>\n",
              "      <td>150.0</td>\n",
              "      <td>15.0</td>\n",
              "      <td>0.0</td>\n",
              "      <td>6.0</td>\n",
              "      <td>0</td>\n",
              "      <td>0</td>\n",
              "      <td>20160317</td>\n",
              "      <td>2.390896e+09</td>\n",
              "      <td>4.926219</td>\n",
              "      <td>0.450454</td>\n",
              "      <td>1.644606</td>\n",
              "      <td>-1.270381</td>\n",
              "      <td>82.981855</td>\n",
              "      <td>0.117675</td>\n",
              "      <td>0.083816</td>\n",
              "      <td>0.025446</td>\n",
              "      <td>0.028174</td>\n",
              "      <td>-4.902200</td>\n",
              "      <td>1.026777</td>\n",
              "      <td>-0.834605</td>\n",
              "      <td>-1.996117</td>\n",
              "      <td>0.570107</td>\n",
              "      <td>1999</td>\n",
              "      <td>2016</td>\n",
              "      <td>3</td>\n",
              "    </tr>\n",
              "    <tr>\n",
              "      <th>7</th>\n",
              "      <td>7</td>\n",
              "      <td>9.0</td>\n",
              "      <td>19990706</td>\n",
              "      <td>4.0</td>\n",
              "      <td>14</td>\n",
              "      <td>1.0</td>\n",
              "      <td>0.0</td>\n",
              "      <td>0.0</td>\n",
              "      <td>101.0</td>\n",
              "      <td>15.0</td>\n",
              "      <td>0.0</td>\n",
              "      <td>7.0</td>\n",
              "      <td>0</td>\n",
              "      <td>0</td>\n",
              "      <td>20160326</td>\n",
              "      <td>1.424664e+09</td>\n",
              "      <td>-3.167771</td>\n",
              "      <td>0.306673</td>\n",
              "      <td>1.942673</td>\n",
              "      <td>0.524206</td>\n",
              "      <td>38.840646</td>\n",
              "      <td>0.000000</td>\n",
              "      <td>0.077149</td>\n",
              "      <td>0.039839</td>\n",
              "      <td>0.082413</td>\n",
              "      <td>3.693829</td>\n",
              "      <td>0.476413</td>\n",
              "      <td>-2.192810</td>\n",
              "      <td>0.236728</td>\n",
              "      <td>0.686261</td>\n",
              "      <td>1999</td>\n",
              "      <td>2016</td>\n",
              "      <td>3</td>\n",
              "    </tr>\n",
              "    <tr>\n",
              "      <th>8</th>\n",
              "      <td>8</td>\n",
              "      <td>1.0</td>\n",
              "      <td>20030205</td>\n",
              "      <td>3.0</td>\n",
              "      <td>1</td>\n",
              "      <td>2.0</td>\n",
              "      <td>1.0</td>\n",
              "      <td>1.0</td>\n",
              "      <td>179.0</td>\n",
              "      <td>15.0</td>\n",
              "      <td>0.0</td>\n",
              "      <td>8.0</td>\n",
              "      <td>0</td>\n",
              "      <td>0</td>\n",
              "      <td>20160326</td>\n",
              "      <td>2.384907e+09</td>\n",
              "      <td>4.893717</td>\n",
              "      <td>0.508111</td>\n",
              "      <td>0.556575</td>\n",
              "      <td>-1.262490</td>\n",
              "      <td>74.345811</td>\n",
              "      <td>0.116583</td>\n",
              "      <td>0.084425</td>\n",
              "      <td>0.039851</td>\n",
              "      <td>0.024388</td>\n",
              "      <td>-4.925234</td>\n",
              "      <td>1.021255</td>\n",
              "      <td>0.075348</td>\n",
              "      <td>-1.551098</td>\n",
              "      <td>0.635988</td>\n",
              "      <td>2003</td>\n",
              "      <td>2016</td>\n",
              "      <td>2</td>\n",
              "    </tr>\n",
              "    <tr>\n",
              "      <th>9</th>\n",
              "      <td>9</td>\n",
              "      <td>6.0</td>\n",
              "      <td>19980101</td>\n",
              "      <td>1.0</td>\n",
              "      <td>7</td>\n",
              "      <td>5.0</td>\n",
              "      <td>0.0</td>\n",
              "      <td>0.0</td>\n",
              "      <td>88.0</td>\n",
              "      <td>15.0</td>\n",
              "      <td>0.0</td>\n",
              "      <td>0.0</td>\n",
              "      <td>0</td>\n",
              "      <td>0</td>\n",
              "      <td>20160402</td>\n",
              "      <td>1.596589e+09</td>\n",
              "      <td>1.666386</td>\n",
              "      <td>0.097080</td>\n",
              "      <td>3.096861</td>\n",
              "      <td>0.843852</td>\n",
              "      <td>71.719701</td>\n",
              "      <td>0.068267</td>\n",
              "      <td>0.011564</td>\n",
              "      <td>0.010291</td>\n",
              "      <td>0.098727</td>\n",
              "      <td>-1.089584</td>\n",
              "      <td>0.740285</td>\n",
              "      <td>-4.186210</td>\n",
              "      <td>0.198273</td>\n",
              "      <td>0.289151</td>\n",
              "      <td>1998</td>\n",
              "      <td>2016</td>\n",
              "      <td>3</td>\n",
              "    </tr>\n",
              "  </tbody>\n",
              "</table>\n",
              "</div>"
            ],
            "text/plain": [
              "   SaleID  name   regDate  model  brand  bodyType  fuelType  gearbox  power  \\\n",
              "0       0   0.0  20040402    4.0      6       1.0       0.0      0.0   60.0   \n",
              "1       1   1.0  20030301    5.0      1       2.0       0.0      0.0  140.0   \n",
              "2       2   2.0  20040403    8.0     15       1.0       0.0      0.0  163.0   \n",
              "3       3   5.0  19960908    8.0     10       0.0       0.0      1.0  193.0   \n",
              "4       4   7.0  20120103    8.0      5       1.0       0.0      0.0   68.0   \n",
              "5       5   8.0  20090602    4.0     10       0.0       1.0      0.0  109.0   \n",
              "6       6   1.0  19990411    2.0      4       0.0       0.0      1.0  150.0   \n",
              "7       7   9.0  19990706    4.0     14       1.0       0.0      0.0  101.0   \n",
              "8       8   1.0  20030205    3.0      1       2.0       1.0      1.0  179.0   \n",
              "9       9   6.0  19980101    1.0      7       5.0       0.0      0.0   88.0   \n",
              "\n",
              "   kilometer  notRepairedDamage  regionCode  seller  offerType  creatDate  \\\n",
              "0       12.5                0.0         2.0       0          0   20160404   \n",
              "1       15.0                2.0         8.0       0          0   20160309   \n",
              "2       12.5                0.0         6.0       0          0   20160402   \n",
              "3       15.0                0.0         1.0       0          0   20160312   \n",
              "4        5.0                0.0         9.0       0          0   20160313   \n",
              "5       10.0                0.0         7.0       0          0   20160319   \n",
              "6       15.0                0.0         6.0       0          0   20160317   \n",
              "7       15.0                0.0         7.0       0          0   20160326   \n",
              "8       15.0                0.0         8.0       0          0   20160326   \n",
              "9       15.0                0.0         0.0       0          0   20160402   \n",
              "\n",
              "            v_0       v_1       v_2       v_3       v_4        v_5       v_6  \\\n",
              "0  1.659918e+09  3.966344  0.439570  2.159744  1.143786  35.025022  0.101988   \n",
              "1  2.154909e+09  5.236112  0.454644  1.380657 -1.422165  76.224076  0.121004   \n",
              "2  2.352321e+09  4.823792  0.601589 -0.998467 -0.996911  53.452091  0.114912   \n",
              "3  2.265232e+09  4.492574  0.421762  0.883600 -2.228079  97.906422  0.110300   \n",
              "4  1.907170e+09  2.031433  0.521884 -1.571239  2.246088  28.468486  0.073205   \n",
              "5  2.459161e+09 -3.229285  0.457803 -1.727217 -0.345690  67.613973  0.000518   \n",
              "6  2.390896e+09  4.926219  0.450454  1.644606 -1.270381  82.981855  0.117675   \n",
              "7  1.424664e+09 -3.167771  0.306673  1.942673  0.524206  38.840646  0.000000   \n",
              "8  2.384907e+09  4.893717  0.508111  0.556575 -1.262490  74.345811  0.116583   \n",
              "9  1.596589e+09  1.666386  0.097080  3.096861  0.843852  71.719701  0.068267   \n",
              "\n",
              "        v_7       v_8       v_9      v_10      v_11      v_12      v_13  \\\n",
              "0  0.079531  0.022816  0.097462 -2.881803  1.245177 -2.420821  0.795292   \n",
              "1  0.081654  0.026597  0.020582 -4.900482  1.131980 -1.030483 -1.722674   \n",
              "2  0.090514  0.062173  0.027075 -4.846749  1.071392  1.565330 -0.832687   \n",
              "3  0.076785  0.033395  0.000000 -4.509599  0.943502 -0.501868 -2.438353   \n",
              "4  0.064169  0.078819  0.121534 -1.896240  0.835916  0.931110  2.834518   \n",
              "5  0.075986  0.090922  0.048769  1.885526  0.062292  2.457660 -0.286973   \n",
              "6  0.083816  0.025446  0.028174 -4.902200  1.026777 -0.834605 -1.996117   \n",
              "7  0.077149  0.039839  0.082413  3.693829  0.476413 -2.192810  0.236728   \n",
              "8  0.084425  0.039851  0.024388 -4.925234  1.021255  0.075348 -1.551098   \n",
              "9  0.011564  0.010291  0.098727 -1.089584  0.740285 -4.186210  0.198273   \n",
              "\n",
              "       v_14  reg_year  create_year  delta_year  \n",
              "0  0.995180      2004         2016           2  \n",
              "1  0.706615      2003         2016           2  \n",
              "2  0.524117      2004         2016           2  \n",
              "3  0.440417      1996         2016           3  \n",
              "4  1.426545      2012         2016           0  \n",
              "5  0.690725      2009         2016           1  \n",
              "6  0.570107      1999         2016           3  \n",
              "7  0.686261      1999         2016           3  \n",
              "8  0.635988      2003         2016           2  \n",
              "9  0.289151      1998         2016           3  "
            ]
          },
          "metadata": {
            "tags": []
          },
          "execution_count": 15
        }
      ]
    },
    {
      "cell_type": "code",
      "metadata": {
        "id": "eJuYSecsXXw1",
        "colab_type": "code",
        "colab": {
          "base_uri": "https://localhost:8080/",
          "height": 251
        },
        "outputId": "224c20fa-6615-408b-ed62-64159b321e29"
      },
      "source": [
        "data.kilometer.value_counts()"
      ],
      "execution_count": 17,
      "outputs": [
        {
          "output_type": "execute_result",
          "data": {
            "text/plain": [
              "15.0    128977\n",
              "12.5     21056\n",
              "10.0      8559\n",
              "9.0       7045\n",
              "8.0       6092\n",
              "7.0       5486\n",
              "6.0       4936\n",
              "5.0       4236\n",
              "4.0       3615\n",
              "3.0       3346\n",
              "2.0       3069\n",
              "0.5       2447\n",
              "1.0        992\n",
              "Name: kilometer, dtype: int64"
            ]
          },
          "metadata": {
            "tags": []
          },
          "execution_count": 17
        }
      ]
    },
    {
      "cell_type": "code",
      "metadata": {
        "id": "2nwSNEB7WSxm",
        "colab_type": "code",
        "colab": {
          "base_uri": "https://localhost:8080/",
          "height": 33
        },
        "outputId": "4ba01afd-94d3-400d-f1b8-ac6ca0bd8f22"
      },
      "source": [
        "data = data.drop(['SaleID', 'regDate', 'seller',\t'offerType', 'creatDate', 'v_13', 'v_9', 'v_6', 'reg_year', 'create_year'], axis=1)\n",
        "data.shape\n"
      ],
      "execution_count": 16,
      "outputs": [
        {
          "output_type": "execute_result",
          "data": {
            "text/plain": [
              "(199856, 23)"
            ]
          },
          "metadata": {
            "tags": []
          },
          "execution_count": 16
        }
      ]
    },
    {
      "cell_type": "code",
      "metadata": {
        "id": "VmY3PhO-W46D",
        "colab_type": "code",
        "colab": {
          "base_uri": "https://localhost:8080/",
          "height": 216
        },
        "outputId": "57108ef1-4805-4cee-f21e-8687056c2594"
      },
      "source": [
        "data = pd.get_dummies(data, columns=['name', 'model', 'brand', 'bodyType', 'fuelType', 'gearbox', 'notRepairedDamage', 'regionCode', 'delta_year'])\n",
        "data.head()"
      ],
      "execution_count": 18,
      "outputs": [
        {
          "output_type": "execute_result",
          "data": {
            "text/html": [
              "<div>\n",
              "<style scoped>\n",
              "    .dataframe tbody tr th:only-of-type {\n",
              "        vertical-align: middle;\n",
              "    }\n",
              "\n",
              "    .dataframe tbody tr th {\n",
              "        vertical-align: top;\n",
              "    }\n",
              "\n",
              "    .dataframe thead th {\n",
              "        text-align: right;\n",
              "    }\n",
              "</style>\n",
              "<table border=\"1\" class=\"dataframe\">\n",
              "  <thead>\n",
              "    <tr style=\"text-align: right;\">\n",
              "      <th></th>\n",
              "      <th>power</th>\n",
              "      <th>kilometer</th>\n",
              "      <th>v_0</th>\n",
              "      <th>v_1</th>\n",
              "      <th>v_2</th>\n",
              "      <th>v_3</th>\n",
              "      <th>v_4</th>\n",
              "      <th>v_5</th>\n",
              "      <th>v_7</th>\n",
              "      <th>v_8</th>\n",
              "      <th>v_10</th>\n",
              "      <th>v_11</th>\n",
              "      <th>v_12</th>\n",
              "      <th>v_14</th>\n",
              "      <th>name_0.0</th>\n",
              "      <th>name_1.0</th>\n",
              "      <th>name_2.0</th>\n",
              "      <th>name_3.0</th>\n",
              "      <th>name_4.0</th>\n",
              "      <th>name_5.0</th>\n",
              "      <th>name_6.0</th>\n",
              "      <th>name_7.0</th>\n",
              "      <th>name_8.0</th>\n",
              "      <th>name_9.0</th>\n",
              "      <th>model_0.0</th>\n",
              "      <th>model_1.0</th>\n",
              "      <th>model_2.0</th>\n",
              "      <th>model_3.0</th>\n",
              "      <th>model_4.0</th>\n",
              "      <th>model_5.0</th>\n",
              "      <th>model_6.0</th>\n",
              "      <th>model_7.0</th>\n",
              "      <th>model_8.0</th>\n",
              "      <th>model_9.0</th>\n",
              "      <th>brand_0</th>\n",
              "      <th>brand_1</th>\n",
              "      <th>brand_2</th>\n",
              "      <th>brand_3</th>\n",
              "      <th>brand_4</th>\n",
              "      <th>brand_5</th>\n",
              "      <th>brand_6</th>\n",
              "      <th>brand_7</th>\n",
              "      <th>brand_8</th>\n",
              "      <th>brand_9</th>\n",
              "      <th>brand_10</th>\n",
              "      <th>brand_11</th>\n",
              "      <th>brand_12</th>\n",
              "      <th>brand_13</th>\n",
              "      <th>brand_14</th>\n",
              "      <th>brand_15</th>\n",
              "      <th>brand_16</th>\n",
              "      <th>brand_17</th>\n",
              "      <th>brand_18</th>\n",
              "      <th>brand_19</th>\n",
              "      <th>brand_20</th>\n",
              "      <th>brand_21</th>\n",
              "      <th>brand_22</th>\n",
              "      <th>brand_23</th>\n",
              "      <th>brand_24</th>\n",
              "      <th>brand_25</th>\n",
              "      <th>brand_26</th>\n",
              "      <th>brand_27</th>\n",
              "      <th>brand_28</th>\n",
              "      <th>brand_29</th>\n",
              "      <th>brand_30</th>\n",
              "      <th>brand_31</th>\n",
              "      <th>brand_32</th>\n",
              "      <th>brand_33</th>\n",
              "      <th>brand_34</th>\n",
              "      <th>brand_35</th>\n",
              "      <th>brand_36</th>\n",
              "      <th>brand_37</th>\n",
              "      <th>brand_38</th>\n",
              "      <th>brand_39</th>\n",
              "      <th>bodyType_0.0</th>\n",
              "      <th>bodyType_1.0</th>\n",
              "      <th>bodyType_2.0</th>\n",
              "      <th>bodyType_3.0</th>\n",
              "      <th>bodyType_4.0</th>\n",
              "      <th>bodyType_5.0</th>\n",
              "      <th>bodyType_6.0</th>\n",
              "      <th>bodyType_7.0</th>\n",
              "      <th>fuelType_0.0</th>\n",
              "      <th>fuelType_1.0</th>\n",
              "      <th>fuelType_2.0</th>\n",
              "      <th>fuelType_3.0</th>\n",
              "      <th>fuelType_4.0</th>\n",
              "      <th>fuelType_5.0</th>\n",
              "      <th>fuelType_6.0</th>\n",
              "      <th>gearbox_0.0</th>\n",
              "      <th>gearbox_1.0</th>\n",
              "      <th>notRepairedDamage_0.0</th>\n",
              "      <th>notRepairedDamage_1.0</th>\n",
              "      <th>notRepairedDamage_2.0</th>\n",
              "      <th>regionCode_0.0</th>\n",
              "      <th>regionCode_1.0</th>\n",
              "      <th>regionCode_2.0</th>\n",
              "      <th>regionCode_3.0</th>\n",
              "      <th>regionCode_4.0</th>\n",
              "      <th>regionCode_5.0</th>\n",
              "      <th>regionCode_6.0</th>\n",
              "      <th>regionCode_7.0</th>\n",
              "      <th>regionCode_8.0</th>\n",
              "      <th>regionCode_9.0</th>\n",
              "      <th>delta_year_0</th>\n",
              "      <th>delta_year_1</th>\n",
              "      <th>delta_year_2</th>\n",
              "      <th>delta_year_3</th>\n",
              "    </tr>\n",
              "  </thead>\n",
              "  <tbody>\n",
              "    <tr>\n",
              "      <th>0</th>\n",
              "      <td>60.0</td>\n",
              "      <td>12.5</td>\n",
              "      <td>1.659918e+09</td>\n",
              "      <td>3.966344</td>\n",
              "      <td>0.439570</td>\n",
              "      <td>2.159744</td>\n",
              "      <td>1.143786</td>\n",
              "      <td>35.025022</td>\n",
              "      <td>0.079531</td>\n",
              "      <td>0.022816</td>\n",
              "      <td>-2.881803</td>\n",
              "      <td>1.245177</td>\n",
              "      <td>-2.420821</td>\n",
              "      <td>0.995180</td>\n",
              "      <td>1</td>\n",
              "      <td>0</td>\n",
              "      <td>0</td>\n",
              "      <td>0</td>\n",
              "      <td>0</td>\n",
              "      <td>0</td>\n",
              "      <td>0</td>\n",
              "      <td>0</td>\n",
              "      <td>0</td>\n",
              "      <td>0</td>\n",
              "      <td>0</td>\n",
              "      <td>0</td>\n",
              "      <td>0</td>\n",
              "      <td>0</td>\n",
              "      <td>1</td>\n",
              "      <td>0</td>\n",
              "      <td>0</td>\n",
              "      <td>0</td>\n",
              "      <td>0</td>\n",
              "      <td>0</td>\n",
              "      <td>0</td>\n",
              "      <td>0</td>\n",
              "      <td>0</td>\n",
              "      <td>0</td>\n",
              "      <td>0</td>\n",
              "      <td>0</td>\n",
              "      <td>1</td>\n",
              "      <td>0</td>\n",
              "      <td>0</td>\n",
              "      <td>0</td>\n",
              "      <td>0</td>\n",
              "      <td>0</td>\n",
              "      <td>0</td>\n",
              "      <td>0</td>\n",
              "      <td>0</td>\n",
              "      <td>0</td>\n",
              "      <td>0</td>\n",
              "      <td>0</td>\n",
              "      <td>0</td>\n",
              "      <td>0</td>\n",
              "      <td>0</td>\n",
              "      <td>0</td>\n",
              "      <td>0</td>\n",
              "      <td>0</td>\n",
              "      <td>0</td>\n",
              "      <td>0</td>\n",
              "      <td>0</td>\n",
              "      <td>0</td>\n",
              "      <td>0</td>\n",
              "      <td>0</td>\n",
              "      <td>0</td>\n",
              "      <td>0</td>\n",
              "      <td>0</td>\n",
              "      <td>0</td>\n",
              "      <td>0</td>\n",
              "      <td>0</td>\n",
              "      <td>0</td>\n",
              "      <td>0</td>\n",
              "      <td>0</td>\n",
              "      <td>0</td>\n",
              "      <td>0</td>\n",
              "      <td>1</td>\n",
              "      <td>0</td>\n",
              "      <td>0</td>\n",
              "      <td>0</td>\n",
              "      <td>0</td>\n",
              "      <td>0</td>\n",
              "      <td>0</td>\n",
              "      <td>1</td>\n",
              "      <td>0</td>\n",
              "      <td>0</td>\n",
              "      <td>0</td>\n",
              "      <td>0</td>\n",
              "      <td>0</td>\n",
              "      <td>0</td>\n",
              "      <td>1</td>\n",
              "      <td>0</td>\n",
              "      <td>1</td>\n",
              "      <td>0</td>\n",
              "      <td>0</td>\n",
              "      <td>0</td>\n",
              "      <td>0</td>\n",
              "      <td>1</td>\n",
              "      <td>0</td>\n",
              "      <td>0</td>\n",
              "      <td>0</td>\n",
              "      <td>0</td>\n",
              "      <td>0</td>\n",
              "      <td>0</td>\n",
              "      <td>0</td>\n",
              "      <td>0</td>\n",
              "      <td>0</td>\n",
              "      <td>1</td>\n",
              "      <td>0</td>\n",
              "    </tr>\n",
              "    <tr>\n",
              "      <th>1</th>\n",
              "      <td>140.0</td>\n",
              "      <td>15.0</td>\n",
              "      <td>2.154909e+09</td>\n",
              "      <td>5.236112</td>\n",
              "      <td>0.454644</td>\n",
              "      <td>1.380657</td>\n",
              "      <td>-1.422165</td>\n",
              "      <td>76.224076</td>\n",
              "      <td>0.081654</td>\n",
              "      <td>0.026597</td>\n",
              "      <td>-4.900482</td>\n",
              "      <td>1.131980</td>\n",
              "      <td>-1.030483</td>\n",
              "      <td>0.706615</td>\n",
              "      <td>0</td>\n",
              "      <td>1</td>\n",
              "      <td>0</td>\n",
              "      <td>0</td>\n",
              "      <td>0</td>\n",
              "      <td>0</td>\n",
              "      <td>0</td>\n",
              "      <td>0</td>\n",
              "      <td>0</td>\n",
              "      <td>0</td>\n",
              "      <td>0</td>\n",
              "      <td>0</td>\n",
              "      <td>0</td>\n",
              "      <td>0</td>\n",
              "      <td>0</td>\n",
              "      <td>1</td>\n",
              "      <td>0</td>\n",
              "      <td>0</td>\n",
              "      <td>0</td>\n",
              "      <td>0</td>\n",
              "      <td>0</td>\n",
              "      <td>1</td>\n",
              "      <td>0</td>\n",
              "      <td>0</td>\n",
              "      <td>0</td>\n",
              "      <td>0</td>\n",
              "      <td>0</td>\n",
              "      <td>0</td>\n",
              "      <td>0</td>\n",
              "      <td>0</td>\n",
              "      <td>0</td>\n",
              "      <td>0</td>\n",
              "      <td>0</td>\n",
              "      <td>0</td>\n",
              "      <td>0</td>\n",
              "      <td>0</td>\n",
              "      <td>0</td>\n",
              "      <td>0</td>\n",
              "      <td>0</td>\n",
              "      <td>0</td>\n",
              "      <td>0</td>\n",
              "      <td>0</td>\n",
              "      <td>0</td>\n",
              "      <td>0</td>\n",
              "      <td>0</td>\n",
              "      <td>0</td>\n",
              "      <td>0</td>\n",
              "      <td>0</td>\n",
              "      <td>0</td>\n",
              "      <td>0</td>\n",
              "      <td>0</td>\n",
              "      <td>0</td>\n",
              "      <td>0</td>\n",
              "      <td>0</td>\n",
              "      <td>0</td>\n",
              "      <td>0</td>\n",
              "      <td>0</td>\n",
              "      <td>0</td>\n",
              "      <td>0</td>\n",
              "      <td>0</td>\n",
              "      <td>0</td>\n",
              "      <td>0</td>\n",
              "      <td>1</td>\n",
              "      <td>0</td>\n",
              "      <td>0</td>\n",
              "      <td>0</td>\n",
              "      <td>0</td>\n",
              "      <td>0</td>\n",
              "      <td>1</td>\n",
              "      <td>0</td>\n",
              "      <td>0</td>\n",
              "      <td>0</td>\n",
              "      <td>0</td>\n",
              "      <td>0</td>\n",
              "      <td>0</td>\n",
              "      <td>1</td>\n",
              "      <td>0</td>\n",
              "      <td>0</td>\n",
              "      <td>0</td>\n",
              "      <td>1</td>\n",
              "      <td>0</td>\n",
              "      <td>0</td>\n",
              "      <td>0</td>\n",
              "      <td>0</td>\n",
              "      <td>0</td>\n",
              "      <td>0</td>\n",
              "      <td>0</td>\n",
              "      <td>0</td>\n",
              "      <td>1</td>\n",
              "      <td>0</td>\n",
              "      <td>0</td>\n",
              "      <td>0</td>\n",
              "      <td>1</td>\n",
              "      <td>0</td>\n",
              "    </tr>\n",
              "    <tr>\n",
              "      <th>2</th>\n",
              "      <td>163.0</td>\n",
              "      <td>12.5</td>\n",
              "      <td>2.352321e+09</td>\n",
              "      <td>4.823792</td>\n",
              "      <td>0.601589</td>\n",
              "      <td>-0.998467</td>\n",
              "      <td>-0.996911</td>\n",
              "      <td>53.452091</td>\n",
              "      <td>0.090514</td>\n",
              "      <td>0.062173</td>\n",
              "      <td>-4.846749</td>\n",
              "      <td>1.071392</td>\n",
              "      <td>1.565330</td>\n",
              "      <td>0.524117</td>\n",
              "      <td>0</td>\n",
              "      <td>0</td>\n",
              "      <td>1</td>\n",
              "      <td>0</td>\n",
              "      <td>0</td>\n",
              "      <td>0</td>\n",
              "      <td>0</td>\n",
              "      <td>0</td>\n",
              "      <td>0</td>\n",
              "      <td>0</td>\n",
              "      <td>0</td>\n",
              "      <td>0</td>\n",
              "      <td>0</td>\n",
              "      <td>0</td>\n",
              "      <td>0</td>\n",
              "      <td>0</td>\n",
              "      <td>0</td>\n",
              "      <td>0</td>\n",
              "      <td>1</td>\n",
              "      <td>0</td>\n",
              "      <td>0</td>\n",
              "      <td>0</td>\n",
              "      <td>0</td>\n",
              "      <td>0</td>\n",
              "      <td>0</td>\n",
              "      <td>0</td>\n",
              "      <td>0</td>\n",
              "      <td>0</td>\n",
              "      <td>0</td>\n",
              "      <td>0</td>\n",
              "      <td>0</td>\n",
              "      <td>0</td>\n",
              "      <td>0</td>\n",
              "      <td>0</td>\n",
              "      <td>0</td>\n",
              "      <td>1</td>\n",
              "      <td>0</td>\n",
              "      <td>0</td>\n",
              "      <td>0</td>\n",
              "      <td>0</td>\n",
              "      <td>0</td>\n",
              "      <td>0</td>\n",
              "      <td>0</td>\n",
              "      <td>0</td>\n",
              "      <td>0</td>\n",
              "      <td>0</td>\n",
              "      <td>0</td>\n",
              "      <td>0</td>\n",
              "      <td>0</td>\n",
              "      <td>0</td>\n",
              "      <td>0</td>\n",
              "      <td>0</td>\n",
              "      <td>0</td>\n",
              "      <td>0</td>\n",
              "      <td>0</td>\n",
              "      <td>0</td>\n",
              "      <td>0</td>\n",
              "      <td>0</td>\n",
              "      <td>0</td>\n",
              "      <td>0</td>\n",
              "      <td>0</td>\n",
              "      <td>1</td>\n",
              "      <td>0</td>\n",
              "      <td>0</td>\n",
              "      <td>0</td>\n",
              "      <td>0</td>\n",
              "      <td>0</td>\n",
              "      <td>0</td>\n",
              "      <td>1</td>\n",
              "      <td>0</td>\n",
              "      <td>0</td>\n",
              "      <td>0</td>\n",
              "      <td>0</td>\n",
              "      <td>0</td>\n",
              "      <td>0</td>\n",
              "      <td>1</td>\n",
              "      <td>0</td>\n",
              "      <td>1</td>\n",
              "      <td>0</td>\n",
              "      <td>0</td>\n",
              "      <td>0</td>\n",
              "      <td>0</td>\n",
              "      <td>0</td>\n",
              "      <td>0</td>\n",
              "      <td>0</td>\n",
              "      <td>0</td>\n",
              "      <td>1</td>\n",
              "      <td>0</td>\n",
              "      <td>0</td>\n",
              "      <td>0</td>\n",
              "      <td>0</td>\n",
              "      <td>0</td>\n",
              "      <td>1</td>\n",
              "      <td>0</td>\n",
              "    </tr>\n",
              "    <tr>\n",
              "      <th>3</th>\n",
              "      <td>193.0</td>\n",
              "      <td>15.0</td>\n",
              "      <td>2.265232e+09</td>\n",
              "      <td>4.492574</td>\n",
              "      <td>0.421762</td>\n",
              "      <td>0.883600</td>\n",
              "      <td>-2.228079</td>\n",
              "      <td>97.906422</td>\n",
              "      <td>0.076785</td>\n",
              "      <td>0.033395</td>\n",
              "      <td>-4.509599</td>\n",
              "      <td>0.943502</td>\n",
              "      <td>-0.501868</td>\n",
              "      <td>0.440417</td>\n",
              "      <td>0</td>\n",
              "      <td>0</td>\n",
              "      <td>0</td>\n",
              "      <td>0</td>\n",
              "      <td>0</td>\n",
              "      <td>1</td>\n",
              "      <td>0</td>\n",
              "      <td>0</td>\n",
              "      <td>0</td>\n",
              "      <td>0</td>\n",
              "      <td>0</td>\n",
              "      <td>0</td>\n",
              "      <td>0</td>\n",
              "      <td>0</td>\n",
              "      <td>0</td>\n",
              "      <td>0</td>\n",
              "      <td>0</td>\n",
              "      <td>0</td>\n",
              "      <td>1</td>\n",
              "      <td>0</td>\n",
              "      <td>0</td>\n",
              "      <td>0</td>\n",
              "      <td>0</td>\n",
              "      <td>0</td>\n",
              "      <td>0</td>\n",
              "      <td>0</td>\n",
              "      <td>0</td>\n",
              "      <td>0</td>\n",
              "      <td>0</td>\n",
              "      <td>0</td>\n",
              "      <td>1</td>\n",
              "      <td>0</td>\n",
              "      <td>0</td>\n",
              "      <td>0</td>\n",
              "      <td>0</td>\n",
              "      <td>0</td>\n",
              "      <td>0</td>\n",
              "      <td>0</td>\n",
              "      <td>0</td>\n",
              "      <td>0</td>\n",
              "      <td>0</td>\n",
              "      <td>0</td>\n",
              "      <td>0</td>\n",
              "      <td>0</td>\n",
              "      <td>0</td>\n",
              "      <td>0</td>\n",
              "      <td>0</td>\n",
              "      <td>0</td>\n",
              "      <td>0</td>\n",
              "      <td>0</td>\n",
              "      <td>0</td>\n",
              "      <td>0</td>\n",
              "      <td>0</td>\n",
              "      <td>0</td>\n",
              "      <td>0</td>\n",
              "      <td>0</td>\n",
              "      <td>0</td>\n",
              "      <td>0</td>\n",
              "      <td>0</td>\n",
              "      <td>0</td>\n",
              "      <td>1</td>\n",
              "      <td>0</td>\n",
              "      <td>0</td>\n",
              "      <td>0</td>\n",
              "      <td>0</td>\n",
              "      <td>0</td>\n",
              "      <td>0</td>\n",
              "      <td>0</td>\n",
              "      <td>1</td>\n",
              "      <td>0</td>\n",
              "      <td>0</td>\n",
              "      <td>0</td>\n",
              "      <td>0</td>\n",
              "      <td>0</td>\n",
              "      <td>0</td>\n",
              "      <td>0</td>\n",
              "      <td>1</td>\n",
              "      <td>1</td>\n",
              "      <td>0</td>\n",
              "      <td>0</td>\n",
              "      <td>0</td>\n",
              "      <td>1</td>\n",
              "      <td>0</td>\n",
              "      <td>0</td>\n",
              "      <td>0</td>\n",
              "      <td>0</td>\n",
              "      <td>0</td>\n",
              "      <td>0</td>\n",
              "      <td>0</td>\n",
              "      <td>0</td>\n",
              "      <td>0</td>\n",
              "      <td>0</td>\n",
              "      <td>0</td>\n",
              "      <td>1</td>\n",
              "    </tr>\n",
              "    <tr>\n",
              "      <th>4</th>\n",
              "      <td>68.0</td>\n",
              "      <td>5.0</td>\n",
              "      <td>1.907170e+09</td>\n",
              "      <td>2.031433</td>\n",
              "      <td>0.521884</td>\n",
              "      <td>-1.571239</td>\n",
              "      <td>2.246088</td>\n",
              "      <td>28.468486</td>\n",
              "      <td>0.064169</td>\n",
              "      <td>0.078819</td>\n",
              "      <td>-1.896240</td>\n",
              "      <td>0.835916</td>\n",
              "      <td>0.931110</td>\n",
              "      <td>1.426545</td>\n",
              "      <td>0</td>\n",
              "      <td>0</td>\n",
              "      <td>0</td>\n",
              "      <td>0</td>\n",
              "      <td>0</td>\n",
              "      <td>0</td>\n",
              "      <td>0</td>\n",
              "      <td>1</td>\n",
              "      <td>0</td>\n",
              "      <td>0</td>\n",
              "      <td>0</td>\n",
              "      <td>0</td>\n",
              "      <td>0</td>\n",
              "      <td>0</td>\n",
              "      <td>0</td>\n",
              "      <td>0</td>\n",
              "      <td>0</td>\n",
              "      <td>0</td>\n",
              "      <td>1</td>\n",
              "      <td>0</td>\n",
              "      <td>0</td>\n",
              "      <td>0</td>\n",
              "      <td>0</td>\n",
              "      <td>0</td>\n",
              "      <td>0</td>\n",
              "      <td>1</td>\n",
              "      <td>0</td>\n",
              "      <td>0</td>\n",
              "      <td>0</td>\n",
              "      <td>0</td>\n",
              "      <td>0</td>\n",
              "      <td>0</td>\n",
              "      <td>0</td>\n",
              "      <td>0</td>\n",
              "      <td>0</td>\n",
              "      <td>0</td>\n",
              "      <td>0</td>\n",
              "      <td>0</td>\n",
              "      <td>0</td>\n",
              "      <td>0</td>\n",
              "      <td>0</td>\n",
              "      <td>0</td>\n",
              "      <td>0</td>\n",
              "      <td>0</td>\n",
              "      <td>0</td>\n",
              "      <td>0</td>\n",
              "      <td>0</td>\n",
              "      <td>0</td>\n",
              "      <td>0</td>\n",
              "      <td>0</td>\n",
              "      <td>0</td>\n",
              "      <td>0</td>\n",
              "      <td>0</td>\n",
              "      <td>0</td>\n",
              "      <td>0</td>\n",
              "      <td>0</td>\n",
              "      <td>0</td>\n",
              "      <td>0</td>\n",
              "      <td>0</td>\n",
              "      <td>0</td>\n",
              "      <td>0</td>\n",
              "      <td>1</td>\n",
              "      <td>0</td>\n",
              "      <td>0</td>\n",
              "      <td>0</td>\n",
              "      <td>0</td>\n",
              "      <td>0</td>\n",
              "      <td>0</td>\n",
              "      <td>1</td>\n",
              "      <td>0</td>\n",
              "      <td>0</td>\n",
              "      <td>0</td>\n",
              "      <td>0</td>\n",
              "      <td>0</td>\n",
              "      <td>0</td>\n",
              "      <td>1</td>\n",
              "      <td>0</td>\n",
              "      <td>1</td>\n",
              "      <td>0</td>\n",
              "      <td>0</td>\n",
              "      <td>0</td>\n",
              "      <td>0</td>\n",
              "      <td>0</td>\n",
              "      <td>0</td>\n",
              "      <td>0</td>\n",
              "      <td>0</td>\n",
              "      <td>0</td>\n",
              "      <td>0</td>\n",
              "      <td>0</td>\n",
              "      <td>1</td>\n",
              "      <td>1</td>\n",
              "      <td>0</td>\n",
              "      <td>0</td>\n",
              "      <td>0</td>\n",
              "    </tr>\n",
              "  </tbody>\n",
              "</table>\n",
              "</div>"
            ],
            "text/plain": [
              "   power  kilometer           v_0       v_1       v_2       v_3       v_4  \\\n",
              "0   60.0       12.5  1.659918e+09  3.966344  0.439570  2.159744  1.143786   \n",
              "1  140.0       15.0  2.154909e+09  5.236112  0.454644  1.380657 -1.422165   \n",
              "2  163.0       12.5  2.352321e+09  4.823792  0.601589 -0.998467 -0.996911   \n",
              "3  193.0       15.0  2.265232e+09  4.492574  0.421762  0.883600 -2.228079   \n",
              "4   68.0        5.0  1.907170e+09  2.031433  0.521884 -1.571239  2.246088   \n",
              "\n",
              "         v_5       v_7       v_8      v_10      v_11      v_12      v_14  \\\n",
              "0  35.025022  0.079531  0.022816 -2.881803  1.245177 -2.420821  0.995180   \n",
              "1  76.224076  0.081654  0.026597 -4.900482  1.131980 -1.030483  0.706615   \n",
              "2  53.452091  0.090514  0.062173 -4.846749  1.071392  1.565330  0.524117   \n",
              "3  97.906422  0.076785  0.033395 -4.509599  0.943502 -0.501868  0.440417   \n",
              "4  28.468486  0.064169  0.078819 -1.896240  0.835916  0.931110  1.426545   \n",
              "\n",
              "   name_0.0  name_1.0  name_2.0  name_3.0  name_4.0  name_5.0  name_6.0  \\\n",
              "0         1         0         0         0         0         0         0   \n",
              "1         0         1         0         0         0         0         0   \n",
              "2         0         0         1         0         0         0         0   \n",
              "3         0         0         0         0         0         1         0   \n",
              "4         0         0         0         0         0         0         0   \n",
              "\n",
              "   name_7.0  name_8.0  name_9.0  model_0.0  model_1.0  model_2.0  model_3.0  \\\n",
              "0         0         0         0          0          0          0          0   \n",
              "1         0         0         0          0          0          0          0   \n",
              "2         0         0         0          0          0          0          0   \n",
              "3         0         0         0          0          0          0          0   \n",
              "4         1         0         0          0          0          0          0   \n",
              "\n",
              "   model_4.0  model_5.0  model_6.0  model_7.0  model_8.0  model_9.0  brand_0  \\\n",
              "0          1          0          0          0          0          0        0   \n",
              "1          0          1          0          0          0          0        0   \n",
              "2          0          0          0          0          1          0        0   \n",
              "3          0          0          0          0          1          0        0   \n",
              "4          0          0          0          0          1          0        0   \n",
              "\n",
              "   brand_1  brand_2  brand_3  brand_4  brand_5  brand_6  brand_7  brand_8  \\\n",
              "0        0        0        0        0        0        1        0        0   \n",
              "1        1        0        0        0        0        0        0        0   \n",
              "2        0        0        0        0        0        0        0        0   \n",
              "3        0        0        0        0        0        0        0        0   \n",
              "4        0        0        0        0        1        0        0        0   \n",
              "\n",
              "   brand_9  brand_10  brand_11  brand_12  brand_13  brand_14  brand_15  \\\n",
              "0        0         0         0         0         0         0         0   \n",
              "1        0         0         0         0         0         0         0   \n",
              "2        0         0         0         0         0         0         1   \n",
              "3        0         1         0         0         0         0         0   \n",
              "4        0         0         0         0         0         0         0   \n",
              "\n",
              "   brand_16  brand_17  brand_18  brand_19  brand_20  brand_21  brand_22  \\\n",
              "0         0         0         0         0         0         0         0   \n",
              "1         0         0         0         0         0         0         0   \n",
              "2         0         0         0         0         0         0         0   \n",
              "3         0         0         0         0         0         0         0   \n",
              "4         0         0         0         0         0         0         0   \n",
              "\n",
              "   brand_23  brand_24  brand_25  brand_26  brand_27  brand_28  brand_29  \\\n",
              "0         0         0         0         0         0         0         0   \n",
              "1         0         0         0         0         0         0         0   \n",
              "2         0         0         0         0         0         0         0   \n",
              "3         0         0         0         0         0         0         0   \n",
              "4         0         0         0         0         0         0         0   \n",
              "\n",
              "   brand_30  brand_31  brand_32  brand_33  brand_34  brand_35  brand_36  \\\n",
              "0         0         0         0         0         0         0         0   \n",
              "1         0         0         0         0         0         0         0   \n",
              "2         0         0         0         0         0         0         0   \n",
              "3         0         0         0         0         0         0         0   \n",
              "4         0         0         0         0         0         0         0   \n",
              "\n",
              "   brand_37  brand_38  brand_39  bodyType_0.0  bodyType_1.0  bodyType_2.0  \\\n",
              "0         0         0         0             0             1             0   \n",
              "1         0         0         0             0             0             1   \n",
              "2         0         0         0             0             1             0   \n",
              "3         0         0         0             1             0             0   \n",
              "4         0         0         0             0             1             0   \n",
              "\n",
              "   bodyType_3.0  bodyType_4.0  bodyType_5.0  bodyType_6.0  bodyType_7.0  \\\n",
              "0             0             0             0             0             0   \n",
              "1             0             0             0             0             0   \n",
              "2             0             0             0             0             0   \n",
              "3             0             0             0             0             0   \n",
              "4             0             0             0             0             0   \n",
              "\n",
              "   fuelType_0.0  fuelType_1.0  fuelType_2.0  fuelType_3.0  fuelType_4.0  \\\n",
              "0             1             0             0             0             0   \n",
              "1             1             0             0             0             0   \n",
              "2             1             0             0             0             0   \n",
              "3             1             0             0             0             0   \n",
              "4             1             0             0             0             0   \n",
              "\n",
              "   fuelType_5.0  fuelType_6.0  gearbox_0.0  gearbox_1.0  \\\n",
              "0             0             0            1            0   \n",
              "1             0             0            1            0   \n",
              "2             0             0            1            0   \n",
              "3             0             0            0            1   \n",
              "4             0             0            1            0   \n",
              "\n",
              "   notRepairedDamage_0.0  notRepairedDamage_1.0  notRepairedDamage_2.0  \\\n",
              "0                      1                      0                      0   \n",
              "1                      0                      0                      1   \n",
              "2                      1                      0                      0   \n",
              "3                      1                      0                      0   \n",
              "4                      1                      0                      0   \n",
              "\n",
              "   regionCode_0.0  regionCode_1.0  regionCode_2.0  regionCode_3.0  \\\n",
              "0               0               0               1               0   \n",
              "1               0               0               0               0   \n",
              "2               0               0               0               0   \n",
              "3               0               1               0               0   \n",
              "4               0               0               0               0   \n",
              "\n",
              "   regionCode_4.0  regionCode_5.0  regionCode_6.0  regionCode_7.0  \\\n",
              "0               0               0               0               0   \n",
              "1               0               0               0               0   \n",
              "2               0               0               1               0   \n",
              "3               0               0               0               0   \n",
              "4               0               0               0               0   \n",
              "\n",
              "   regionCode_8.0  regionCode_9.0  delta_year_0  delta_year_1  delta_year_2  \\\n",
              "0               0               0             0             0             1   \n",
              "1               1               0             0             0             1   \n",
              "2               0               0             0             0             1   \n",
              "3               0               0             0             0             0   \n",
              "4               0               1             1             0             0   \n",
              "\n",
              "   delta_year_3  \n",
              "0             0  \n",
              "1             0  \n",
              "2             0  \n",
              "3             1  \n",
              "4             0  "
            ]
          },
          "metadata": {
            "tags": []
          },
          "execution_count": 18
        }
      ]
    },
    {
      "cell_type": "code",
      "metadata": {
        "id": "J7AS1OPVX7yX",
        "colab_type": "code",
        "colab": {}
      },
      "source": [
        "train_data = data[:len(train_data)]\n",
        "train_label = price\n",
        "X_test = data[len(train_data):]"
      ],
      "execution_count": 0,
      "outputs": []
    },
    {
      "cell_type": "code",
      "metadata": {
        "id": "x1XEOsXmZoPC",
        "colab_type": "code",
        "colab": {}
      },
      "source": [
        "from sklearn.metrics import mean_absolute_error"
      ],
      "execution_count": 0,
      "outputs": []
    },
    {
      "cell_type": "code",
      "metadata": {
        "id": "vLrMqD61Yacr",
        "colab_type": "code",
        "colab": {}
      },
      "source": [
        "kf = KFold(n_splits=10, shuffle=True, random_state=2019)"
      ],
      "execution_count": 0,
      "outputs": []
    },
    {
      "cell_type": "code",
      "metadata": {
        "id": "m6MIKTFgakPz",
        "colab_type": "code",
        "colab": {}
      },
      "source": [
        "# Define error metrics\n",
        "def mab(y, y_pred):\n",
        "  return mean_absolute_error(y, y_pred)\n",
        "\n",
        "def cv_mab(model, X):\n",
        "  mab = -cross_val_score(model, X, train_label, scoring=\"neg_mean_absolute_error\", cv=kf)\n",
        "  return (mab)"
      ],
      "execution_count": 0,
      "outputs": []
    },
    {
      "cell_type": "markdown",
      "metadata": {
        "id": "qM0Vs7EVfvEW",
        "colab_type": "text"
      },
      "source": [
        "构建模型"
      ]
    },
    {
      "cell_type": "code",
      "metadata": {
        "id": "vvV4DyxlZKyp",
        "colab_type": "code",
        "colab": {}
      },
      "source": [
        "# Light Gradient Boosting Regressor\n",
        "lightgbm = LGBMRegressor(objective='regression', \n",
        "            num_leaves=6,\n",
        "            learning_rate=0.01, \n",
        "            n_estimators=7000,\n",
        "            max_bin=200, \n",
        "            bagging_fraction=0.8,\n",
        "            bagging_freq=4, \n",
        "            bagging_seed=8,\n",
        "            feature_fraction=0.2,\n",
        "            feature_fraction_seed=8,\n",
        "            min_sum_hessian_in_leaf = 11,\n",
        "            verbose=-1,\n",
        "            random_state=2019)\n",
        "\n",
        "# XGBoost Regressor\n",
        "xgboost = XGBRegressor(learning_rate=0.01,\n",
        "            n_estimators=6000,\n",
        "            max_depth=4,\n",
        "            min_child_weight=0,\n",
        "            gamma=0.6,\n",
        "            subsample=0.7,\n",
        "            colsample_bytree=0.7,\n",
        "            objective='reg:linear',\n",
        "            nthread=-1,\n",
        "            scale_pos_weight=1,\n",
        "            seed=27,\n",
        "            reg_alpha=0.00006,\n",
        "            random_state=2019)\n",
        "\n",
        "# 线性模型需要进行归一化\n",
        "# Ridge Regressor\n",
        "ridge_alphas = [1e-15, 1e-10, 1e-8, 9e-4, 7e-4, 5e-4, 3e-4, 1e-4, 1e-3, 5e-2, 1e-2, 0.1, 0.3, 1, 3, 5, 10, 15, 18, 20, 30, 50, 75, 100]\n",
        "ridge = make_pipeline(RobustScaler(), RidgeCV(alphas=ridge_alphas, cv=kf))\n",
        "\n",
        "# Support Vector Regressor\n",
        "svr = make_pipeline(RobustScaler(), SVR(C=20, epsilon=0.008, gamma=0.0003))\n",
        "\n",
        "# 树模型无需归一化\n",
        "# Gradient Boosting Regressor\n",
        "gbr = GradientBoostingRegressor(n_estimators=6000,\n",
        "                learning_rate=0.01,\n",
        "                max_depth=4,\n",
        "                max_features='sqrt',\n",
        "                min_samples_leaf=15,\n",
        "                min_samples_split=10,\n",
        "                loss='huber',\n",
        "                random_state=2019)  \n",
        "\n",
        "# Random Forest Regressor\n",
        "rf = RandomForestRegressor(n_estimators=1200,\n",
        "              max_depth=15,\n",
        "              min_samples_split=5,\n",
        "              min_samples_leaf=5,\n",
        "              max_features=None,\n",
        "              oob_score=True,\n",
        "              random_state=2019)\n",
        "\n",
        "# Stack up all the models above, optimized using xgboost\n",
        "stack_gen = StackingCVRegressor(regressors=(xgboost, lightgbm, svr, ridge, gbr, rf),\n",
        "                        meta_regressor=xgboost,\n",
        "                        use_features_in_secondary=True)"
      ],
      "execution_count": 0,
      "outputs": []
    },
    {
      "cell_type": "markdown",
      "metadata": {
        "id": "bC4r3cB8f3YU",
        "colab_type": "text"
      },
      "source": [
        "对每一个模型执行交叉验证"
      ]
    },
    {
      "cell_type": "code",
      "metadata": {
        "id": "f5bJOo6qbdKg",
        "colab_type": "code",
        "colab": {
          "base_uri": "https://localhost:8080/",
          "height": 33
        },
        "outputId": "c06ea94f-ca36-4b06-e967-2fcac837e778"
      },
      "source": [
        "\n",
        "scores = {}\n",
        "score = cv_mab(lightgbm, train_data)\n",
        "print(\"lightgbm: {:.4f} ({:.4f})\".format(score.mean(), score.std()))\n",
        "scores['lgb'] = (score.mean(), score.std())"
      ],
      "execution_count": 28,
      "outputs": [
        {
          "output_type": "stream",
          "text": [
            "lightgbm: 0.1528 (0.0011)\n"
          ],
          "name": "stdout"
        }
      ]
    },
    {
      "cell_type": "code",
      "metadata": {
        "id": "9jPm4rJze-QN",
        "colab_type": "code",
        "colab": {
          "base_uri": "https://localhost:8080/",
          "height": 67
        },
        "outputId": "390e3051-654e-4cce-f7b1-e70c32ecdd3a"
      },
      "source": [
        "scores = {}\n",
        "score = cv_mab(xgboost, train_data)\n",
        "print(\"lightgbm: {:.4f} ({:.4f})\".format(score.mean(), score.std()))\n",
        "scores['lgb'] = (score.mean(), score.std())"
      ],
      "execution_count": 0,
      "outputs": [
        {
          "output_type": "stream",
          "text": [
            "/usr/local/lib/python3.6/dist-packages/xgboost/core.py:587: FutureWarning: Series.base is deprecated and will be removed in a future version\n",
            "  if getattr(data, 'base', None) is not None and \\\n"
          ],
          "name": "stderr"
        },
        {
          "output_type": "stream",
          "text": [
            "[12:13:49] WARNING: /workspace/src/objective/regression_obj.cu:152: reg:linear is now deprecated in favor of reg:squarederror.\n"
          ],
          "name": "stdout"
        }
      ]
    },
    {
      "cell_type": "code",
      "metadata": {
        "id": "VqX1PWl4fE5T",
        "colab_type": "code",
        "colab": {}
      },
      "source": [
        "scores = {}\n",
        "score = cv_mab(svr, train_data)\n",
        "print(\"lightgbm: {:.4f} ({:.4f})\".format(score.mean(), score.std()))\n",
        "scores['lgb'] = (score.mean(), score.std())"
      ],
      "execution_count": 0,
      "outputs": []
    },
    {
      "cell_type": "code",
      "metadata": {
        "id": "tzazcWClfE0V",
        "colab_type": "code",
        "colab": {}
      },
      "source": [
        "scores = {}\n",
        "score = cv_mab(ridge, train_data)\n",
        "print(\"lightgbm: {:.4f} ({:.4f})\".format(score.mean(), score.std()))\n",
        "scores['lgb'] = (score.mean(), score.std())"
      ],
      "execution_count": 0,
      "outputs": []
    },
    {
      "cell_type": "code",
      "metadata": {
        "id": "phNDHGoxfErX",
        "colab_type": "code",
        "colab": {}
      },
      "source": [
        "scores = {}\n",
        "score = cv_mab(rf, train_data)\n",
        "print(\"lightgbm: {:.4f} ({:.4f})\".format(score.mean(), score.std()))\n",
        "scores['lgb'] = (score.mean(), score.std())"
      ],
      "execution_count": 0,
      "outputs": []
    },
    {
      "cell_type": "code",
      "metadata": {
        "id": "e8mgmPBperAE",
        "colab_type": "code",
        "colab": {}
      },
      "source": [
        "scores = {}\n",
        "score = cv_mab(gbr, train_data)\n",
        "print(\"lightgbm: {:.4f} ({:.4f})\".format(score.mean(), score.std()))\n",
        "scores['lgb'] = (score.mean(), score.std())"
      ],
      "execution_count": 0,
      "outputs": []
    },
    {
      "cell_type": "markdown",
      "metadata": {
        "id": "nj_KAtQ2gR61",
        "colab_type": "text"
      },
      "source": [
        "训练模型"
      ]
    },
    {
      "cell_type": "code",
      "metadata": {
        "id": "atHE6wyieFz_",
        "colab_type": "code",
        "colab": {}
      },
      "source": [
        "# 堆叠回归器\n",
        "stack_gen_model = stack_gen.fit(train_data.values, train_label.values))"
      ],
      "execution_count": 0,
      "outputs": []
    },
    {
      "cell_type": "code",
      "metadata": {
        "id": "7YOmESQQgUO_",
        "colab_type": "code",
        "colab": {}
      },
      "source": [
        "lgb_model_full_data = lightgbm.fit(train_data, train_label)"
      ],
      "execution_count": 0,
      "outputs": []
    },
    {
      "cell_type": "code",
      "metadata": {
        "id": "Nf_-XN2DgUGq",
        "colab_type": "code",
        "colab": {}
      },
      "source": [
        "xgb_model_full_data = xgboost.fit(train_data, train_label)"
      ],
      "execution_count": 0,
      "outputs": []
    },
    {
      "cell_type": "code",
      "metadata": {
        "id": "KWclfQP-gUED",
        "colab_type": "code",
        "colab": {}
      },
      "source": [
        "svr_model_full_data = svr.fit(train_data, train_label)"
      ],
      "execution_count": 0,
      "outputs": []
    },
    {
      "cell_type": "code",
      "metadata": {
        "id": "e-kTn1HQgUBV",
        "colab_type": "code",
        "colab": {}
      },
      "source": [
        "ridge_model_full_data = ridge.fit(train_data, train_label)"
      ],
      "execution_count": 0,
      "outputs": []
    },
    {
      "cell_type": "code",
      "metadata": {
        "id": "WGJ6o3nMgT75",
        "colab_type": "code",
        "colab": {}
      },
      "source": [
        "rf_model_full_data = rf.fit(train_data, train_label)"
      ],
      "execution_count": 0,
      "outputs": []
    },
    {
      "cell_type": "code",
      "metadata": {
        "id": "XgKqWp89gTxm",
        "colab_type": "code",
        "colab": {}
      },
      "source": [
        "gbr_model_full_data = gbr.fit(train_data, train_label)"
      ],
      "execution_count": 0,
      "outputs": []
    },
    {
      "cell_type": "code",
      "metadata": {
        "id": "PunmrdfQg4BA",
        "colab_type": "code",
        "colab": {}
      },
      "source": [
        "# 堆叠模型\n",
        "def blended_predictions(X):\n",
        "  return ((0.1 * ridge_model_full_data.predict(X)) + \\\n",
        "      (0.2 * svr_model_full_data.predict(X)) + \\\n",
        "      (0.1 * gbr_model_full_data.predict(X)) + \\\n",
        "      (0.1 * xgb_model_full_data.predict(X)) + \\\n",
        "      (0.1 * lgb_model_full_data.predict(X)) + \\\n",
        "      (0.05 * rf_model_full_data.predict(X)) + \\\n",
        "      (0.35 * stack_gen_model.predict(np.array(X))))"
      ],
      "execution_count": 0,
      "outputs": []
    },
    {
      "cell_type": "code",
      "metadata": {
        "id": "bcxUMx84g35e",
        "colab_type": "code",
        "colab": {}
      },
      "source": [
        "blended_score = mab(train_label, blended_predictions(X))\n",
        "scores['blended'] = (blended_score, 0)\n",
        "print('MABE score on train data:')\n",
        "print(blended_score)"
      ],
      "execution_count": 0,
      "outputs": []
    },
    {
      "cell_type": "code",
      "metadata": {
        "id": "ReUHyF_Fg32T",
        "colab_type": "code",
        "colab": {}
      },
      "source": [
        "# 绘制每个模型的预测误差\n",
        "fig = plt.figure(figsize=(24, 12))\n",
        "\n",
        "ax = sns.pointplot(x=list(scores.keys()), y=[score for score, _ in scores.values()], markers=['o'], linestyles=['-'])\n",
        "for i, score in enumerate(scores.values()):\n",
        "    ax.text(i, score[0] + 0.002, '{:.6f}'.format(score[0]), horizontalalignment='left', size='large', color='black', weight='semibold')\n",
        "\n",
        "plt.ylabel('Score (MABE)', size=20, labelpad=12.5)\n",
        "plt.xlabel('Model', size=20, labelpad=12.5)\n",
        "plt.tick_params(axis='x', labelsize=13.5)\n",
        "plt.tick_params(axis='y', labelsize=12.5)\n",
        "\n",
        "plt.title('Scores of Models', size=20)\n",
        "\n",
        "plt.show()"
      ],
      "execution_count": 0,
      "outputs": []
    },
    {
      "cell_type": "code",
      "metadata": {
        "id": "3DsJfzqLhb-3",
        "colab_type": "code",
        "colab": {}
      },
      "source": [
        ""
      ],
      "execution_count": 0,
      "outputs": []
    }
  ]
}