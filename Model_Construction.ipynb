{
  "nbformat": 4,
  "nbformat_minor": 0,
  "metadata": {
    "colab": {
      "name": "Model Construction.ipynb",
      "provenance": [],
      "collapsed_sections": [],
      "mount_file_id": "14p4yjvv0ykXD7Vlo4okBZB4RIYkCF0Oz",
      "authorship_tag": "ABX9TyNI52ol/EdSg1iWRIQ8K4Fj",
      "include_colab_link": true
    },
    "kernelspec": {
      "name": "python3",
      "display_name": "Python 3"
    }
  },
  "cells": [
    {
      "cell_type": "markdown",
      "metadata": {
        "id": "view-in-github",
        "colab_type": "text"
      },
      "source": [
        "<a href=\"https://colab.research.google.com/github/MHX1203/DataWhale-DataMining/blob/master/Model_Construction.ipynb\" target=\"_parent\"><img src=\"https://colab.research.google.com/assets/colab-badge.svg\" alt=\"Open In Colab\"/></a>"
      ]
    },
    {
      "cell_type": "code",
      "metadata": {
        "id": "1fLNOCwxbzw1",
        "colab_type": "code",
        "colab": {}
      },
      "source": [
        "import numpy as np\n",
        "import pandas as pd\n",
        "import os\n",
        "from sklearn.feature_selection import SelectFromModel\n",
        "from sklearn.model_selection import train_test_split\n",
        "import matplotlib.pyplot as plt\n",
        "import seaborn as sns\n",
        "pd.set_option('display.max_columns', 200)\n",
        "sns.set_style('white')\n",
        "from sklearn.ensemble import RandomForestRegressor, GradientBoostingRegressor, AdaBoostRegressor, BaggingRegressor\n",
        "from sklearn.kernel_ridge import KernelRidge\n",
        "from sklearn.linear_model import Ridge, RidgeCV\n",
        "from sklearn.linear_model import ElasticNet, ElasticNetCV\n",
        "from sklearn.svm import SVR\n",
        "from mlxtend.regressor import StackingCVRegressor\n",
        "import lightgbm as lgb\n",
        "from lightgbm import LGBMRegressor\n",
        "from xgboost import XGBRegressor\n",
        "\n",
        "# Stats\n",
        "from scipy.stats import skew, norm\n",
        "from scipy.special import boxcox1p\n",
        "from scipy.stats import boxcox_normmax\n",
        "\n",
        "# Misc\n",
        "from sklearn.model_selection import GridSearchCV\n",
        "from sklearn.model_selection import KFold, cross_val_score\n",
        "from sklearn.metrics import mean_squared_error\n",
        "from sklearn.preprocessing import OneHotEncoder\n",
        "from sklearn.preprocessing import LabelEncoder\n",
        "from sklearn.pipeline import make_pipeline\n",
        "from sklearn.preprocessing import scale\n",
        "from sklearn.preprocessing import StandardScaler\n",
        "from sklearn.preprocessing import RobustScaler\n",
        "from sklearn.decomposition import PCA\n",
        "import pandas_profiling\n",
        "pd.set_option('mode.chained_assignment', None)\n",
        "%matplotlib inline"
      ],
      "execution_count": 0,
      "outputs": []
    },
    {
      "cell_type": "code",
      "metadata": {
        "id": "OVSqXusrc_C8",
        "colab_type": "code",
        "outputId": "a25f98cb-b664-41d7-b437-1427c5773849",
        "colab": {
          "base_uri": "https://localhost:8080/",
          "height": 33
        }
      },
      "source": [
        "train_data = pd.read_csv('/content/drive/My Drive/Data/used_car_train_20200313.csv', sep=' ')\n",
        "test_data = pd.read_csv('/content/drive/My Drive/Data/used_car_testA_20200313.csv', sep=' ')\n",
        "train_data.shape, test_data.shape"
      ],
      "execution_count": 0,
      "outputs": [
        {
          "output_type": "execute_result",
          "data": {
            "text/plain": [
              "((150000, 31), (50000, 30))"
            ]
          },
          "metadata": {
            "tags": []
          },
          "execution_count": 2
        }
      ]
    },
    {
      "cell_type": "code",
      "metadata": {
        "id": "X-UuVuKudNFg",
        "colab_type": "code",
        "colab": {}
      },
      "source": [
        "# price = train\n",
        "train_data['price'] = np.log1p(train_data['price'])\n",
        "\n",
        "train_data = train_data.dropna(subset=['model'])\n",
        "\n",
        "train_data = train_data[train_data['power'] <= 600]\n",
        "\n"
      ],
      "execution_count": 0,
      "outputs": []
    },
    {
      "cell_type": "code",
      "metadata": {
        "id": "RUPoWxlOeFyO",
        "colab_type": "code",
        "outputId": "5a14340e-12f4-4129-b105-0f8ee81dce15",
        "colab": {
          "base_uri": "https://localhost:8080/",
          "height": 33
        }
      },
      "source": [
        "price = train_data.price\n",
        "del train_data['price']\n",
        "data = pd.concat([train_data, test_data], axis=0)\n",
        "data.shape"
      ],
      "execution_count": 0,
      "outputs": [
        {
          "output_type": "execute_result",
          "data": {
            "text/plain": [
              "(199856, 30)"
            ]
          },
          "metadata": {
            "tags": []
          },
          "execution_count": 5
        }
      ]
    },
    {
      "cell_type": "code",
      "metadata": {
        "id": "Q4LyXhRQdwNU",
        "colab_type": "code",
        "outputId": "92f5ab56-2e02-44f3-a066-793f700a7ebe",
        "colab": {
          "base_uri": "https://localhost:8080/",
          "height": 67
        }
      },
      "source": [
        "\"\"\"\n",
        "\n",
        "bodyType, fuelType和gearbox直接填充众数\n",
        "\"\"\"\n",
        "data.loc[data['bodyType'].isnull(), 'bodyType'] = data['bodyType'].mode()[0]\n",
        "print('after handle missing, null value counts in %s: %d'%('bodyType', data['bodyType'].isnull().sum()))\n",
        "\n",
        "data.loc[data['fuelType'].isnull(), 'fuelType'] = data['fuelType'].mode()[0]\n",
        "print('after handle missing, null value counts in %s: %d'%('fuelType', data['fuelType'].isnull().sum()))\n",
        "\n",
        "data.loc[data['gearbox'].isnull(), 'gearbox'] = data['gearbox'].mode()[0]\n",
        "print('after handle missing, null value counts in %s: %d'%('gearbox', data['gearbox'].isnull().sum()))\n",
        "\n",
        "data['notRepairedDamage'] = data['notRepairedDamage'].apply(lambda x: float(x) if x != '-' else 2.0)\n",
        "\n",
        "group_bodyType = data[data['power'] > 0].groupby('bodyType', axis=0).agg('median').reset_index()\n",
        "group_bodyType = group_bodyType.set_index('bodyType')\n",
        "\n",
        "\n",
        "\n",
        "data.power = data.apply(lambda x: x.power if x.power != 0 else group_bodyType.loc[x.bodyType].power, axis=1)\n",
        "\n",
        "data['reg_year'] = data['regDate'].map(lambda x: int(str(x)[:4]))\n",
        "\n",
        "data['create_year'] = data['creatDate'].map(lambda x: int(str(x)[:4]))\n",
        "\n",
        "data['delta_year'] = data['create_year'] - data['reg_year']\n",
        "data['delta_year'] = data['delta_year'].apply(lambda x: 3 if (x // 5) >3 else x // 5)"
      ],
      "execution_count": 0,
      "outputs": [
        {
          "output_type": "stream",
          "text": [
            "after handle missing, null value counts in bodyType: 0\n",
            "after handle missing, null value counts in fuelType: 0\n",
            "after handle missing, null value counts in gearbox: 0\n"
          ],
          "name": "stdout"
        }
      ]
    },
    {
      "cell_type": "code",
      "metadata": {
        "id": "nzM3lRupdBuX",
        "colab_type": "code",
        "colab": {}
      },
      "source": [
        "digit_feats =[col for col in data.columns if col.startswith('v_')]\n",
        "\n",
        "skews = data[digit_feats].skew().sort_values()\n",
        "skew_idx = skews[np.abs(skews) > 0.5].index\n",
        "\n",
        "\n",
        "# 对于存在小于0的特征，先取指数(这里数值较小)，再进行box-cox处理\n",
        "exp_boxcoxs = ['v_14', 'v_11', 'v_2']\n",
        "for col in exp_boxcoxs:\n",
        "  # train_data[col] = np.log1p(train_data[col])\n",
        "  data[col] = boxcox1p(np.exp(data[col]), boxcox_normmax(np.exp(data[col]) + 1))\n",
        "\n",
        "for col in skew_idx:\n",
        "  if col not in exp_boxcoxs:\n",
        "    data[col] = boxcox1p(data[col], boxcox_normmax(data[col] + 1))"
      ],
      "execution_count": 0,
      "outputs": []
    },
    {
      "cell_type": "code",
      "metadata": {
        "id": "R9uhEbNWhGXO",
        "colab_type": "code",
        "colab": {}
      },
      "source": [
        "# 删除"
      ],
      "execution_count": 0,
      "outputs": []
    },
    {
      "cell_type": "code",
      "metadata": {
        "id": "2E15VV8DgbTq",
        "colab_type": "code",
        "outputId": "2dc62f13-bee5-4ab7-9341-6b0931f84a07",
        "colab": {
          "base_uri": "https://localhost:8080/",
          "height": 33
        }
      },
      "source": [
        "train_data = data[:len(train_data)]\n",
        "train_data.shape"
      ],
      "execution_count": 0,
      "outputs": [
        {
          "output_type": "execute_result",
          "data": {
            "text/plain": [
              "(149856, 33)"
            ]
          },
          "metadata": {
            "tags": []
          },
          "execution_count": 8
        }
      ]
    },
    {
      "cell_type": "code",
      "metadata": {
        "id": "1hvPP2vqguHp",
        "colab_type": "code",
        "outputId": "795e65b0-eb84-4501-cbdf-b410907b5f73",
        "colab": {
          "base_uri": "https://localhost:8080/",
          "height": 217
        }
      },
      "source": [
        "train_data['model'].value_counts()"
      ],
      "execution_count": 0,
      "outputs": [
        {
          "output_type": "execute_result",
          "data": {
            "text/plain": [
              "0.0      11756\n",
              "19.0      9564\n",
              "4.0       8438\n",
              "1.0       6018\n",
              "29.0      5182\n",
              "         ...  \n",
              "240.0        2\n",
              "245.0        2\n",
              "209.0        2\n",
              "242.0        2\n",
              "247.0        1\n",
              "Name: model, Length: 248, dtype: int64"
            ]
          },
          "metadata": {
            "tags": []
          },
          "execution_count": 10
        }
      ]
    }
  ]
}