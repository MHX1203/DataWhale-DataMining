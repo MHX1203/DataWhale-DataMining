{
  "nbformat": 4,
  "nbformat_minor": 0,
  "metadata": {
    "colab": {
      "name": "Untitled3.ipynb",
      "provenance": [],
      "collapsed_sections": [],
      "mount_file_id": "1mnuCjVV2-fChzkq7c347c1GYrPiM_hWn",
      "authorship_tag": "ABX9TyPRnDymrmhJ1ZFsdfuNsmC2",
      "include_colab_link": true
    },
    "kernelspec": {
      "name": "python3",
      "display_name": "Python 3"
    }
  },
  "cells": [
    {
      "cell_type": "markdown",
      "metadata": {
        "id": "view-in-github",
        "colab_type": "text"
      },
      "source": [
        "<a href=\"https://colab.research.google.com/github/MHX1203/DataWhale-DataMining/blob/master/EDA.ipynb\" target=\"_parent\"><img src=\"https://colab.research.google.com/assets/colab-badge.svg\" alt=\"Open In Colab\"/></a>"
      ]
    },
    {
      "cell_type": "markdown",
      "metadata": {
        "id": "yw8zwFaVtaFA",
        "colab_type": "text"
      },
      "source": [
        "EDA(Explorer Data Analysis)"
      ]
    },
    {
      "cell_type": "code",
      "metadata": {
        "id": "p8HbumF9kP_s",
        "colab_type": "code",
        "colab": {}
      },
      "source": [
        "import numpy as np\n",
        "import pandas as pd\n",
        "import os\n",
        "from sklearn.ensemble import RandomForestRegressor, GradientBoostingRegressor, ExtraTreesRegressor\n",
        "from sklearn.svm import SVC, SVR\n",
        "from sklearn.feature_selection import SelectFromModel\n",
        "from sklearn.preprocessing import LabelEncoder, OneHotEncoder\n",
        "from sklearn.model_selection import train_test_split\n",
        "import matplotlib.pyplot as plt\n",
        "import seaborn as sns\n",
        "pd.set_option('display.max_columns', 40)\n",
        "sns.set_style('white')\n",
        "import pandas_profiling\n",
        "%matplotlib inline"
      ],
      "execution_count": 0,
      "outputs": []
    },
    {
      "cell_type": "code",
      "metadata": {
        "id": "bQJLo4R4k9EW",
        "colab_type": "code",
        "outputId": "ef251b01-240e-4fe4-dc7f-29b02d337d43",
        "colab": {
          "base_uri": "https://localhost:8080/",
          "height": 33
        }
      },
      "source": [
        "from google.colab import drive\n",
        "drive.mount('/content/drive')"
      ],
      "execution_count": 2,
      "outputs": [
        {
          "output_type": "stream",
          "text": [
            "Drive already mounted at /content/drive; to attempt to forcibly remount, call drive.mount(\"/content/drive\", force_remount=True).\n"
          ],
          "name": "stdout"
        }
      ]
    },
    {
      "cell_type": "code",
      "metadata": {
        "id": "ttV44dqmlIQ1",
        "colab_type": "code",
        "outputId": "736de446-01ef-4d2f-bb1c-59b47b4c0475",
        "colab": {
          "base_uri": "https://localhost:8080/",
          "height": 50
        }
      },
      "source": [
        "!pwd\n",
        "!ls "
      ],
      "execution_count": 3,
      "outputs": [
        {
          "output_type": "stream",
          "text": [
            "/content\n",
            "drive  sample_data\n"
          ],
          "name": "stdout"
        }
      ]
    },
    {
      "cell_type": "code",
      "metadata": {
        "id": "yDK-KJCHlJOq",
        "colab_type": "code",
        "outputId": "32c07f1b-8444-4d1f-a19f-e458d5055aff",
        "colab": {
          "base_uri": "https://localhost:8080/",
          "height": 33
        }
      },
      "source": [
        "os.listdir('drive/My Drive/Data')"
      ],
      "execution_count": 4,
      "outputs": [
        {
          "output_type": "execute_result",
          "data": {
            "text/plain": [
              "['used_car_train_20200313.csv', 'used_car_testA_20200313.csv']"
            ]
          },
          "metadata": {
            "tags": []
          },
          "execution_count": 4
        }
      ]
    },
    {
      "cell_type": "code",
      "metadata": {
        "id": "EdsECZKjlNIN",
        "colab_type": "code",
        "outputId": "f8e4025d-5630-4b19-cc97-48d8af4e7112",
        "colab": {
          "base_uri": "https://localhost:8080/",
          "height": 33
        }
      },
      "source": [
        "train_data = pd.read_csv('drive/My Drive/Data/used_car_train_20200313.csv', sep=' ', index_col=None)\n",
        "test_data = pd.read_csv('drive/My Drive/Data/used_car_testA_20200313.csv', sep=' ', index_col=None)\n",
        "train_data.shape, test_data.shape"
      ],
      "execution_count": 5,
      "outputs": [
        {
          "output_type": "execute_result",
          "data": {
            "text/plain": [
              "((150000, 31), (50000, 30))"
            ]
          },
          "metadata": {
            "tags": []
          },
          "execution_count": 5
        }
      ]
    },
    {
      "cell_type": "code",
      "metadata": {
        "id": "XXQ5EhXqlkUc",
        "colab_type": "code",
        "outputId": "96bfa6fa-4661-441b-bc7a-7ba45ce6adff",
        "colab": {
          "base_uri": "https://localhost:8080/",
          "height": 216
        }
      },
      "source": [
        "# 训练数据表头\n",
        "train_data.head()"
      ],
      "execution_count": 6,
      "outputs": [
        {
          "output_type": "execute_result",
          "data": {
            "text/html": [
              "<div>\n",
              "<style scoped>\n",
              "    .dataframe tbody tr th:only-of-type {\n",
              "        vertical-align: middle;\n",
              "    }\n",
              "\n",
              "    .dataframe tbody tr th {\n",
              "        vertical-align: top;\n",
              "    }\n",
              "\n",
              "    .dataframe thead th {\n",
              "        text-align: right;\n",
              "    }\n",
              "</style>\n",
              "<table border=\"1\" class=\"dataframe\">\n",
              "  <thead>\n",
              "    <tr style=\"text-align: right;\">\n",
              "      <th></th>\n",
              "      <th>SaleID</th>\n",
              "      <th>name</th>\n",
              "      <th>regDate</th>\n",
              "      <th>model</th>\n",
              "      <th>brand</th>\n",
              "      <th>bodyType</th>\n",
              "      <th>fuelType</th>\n",
              "      <th>gearbox</th>\n",
              "      <th>power</th>\n",
              "      <th>kilometer</th>\n",
              "      <th>notRepairedDamage</th>\n",
              "      <th>regionCode</th>\n",
              "      <th>seller</th>\n",
              "      <th>offerType</th>\n",
              "      <th>creatDate</th>\n",
              "      <th>price</th>\n",
              "      <th>v_0</th>\n",
              "      <th>v_1</th>\n",
              "      <th>v_2</th>\n",
              "      <th>v_3</th>\n",
              "      <th>v_4</th>\n",
              "      <th>v_5</th>\n",
              "      <th>v_6</th>\n",
              "      <th>v_7</th>\n",
              "      <th>v_8</th>\n",
              "      <th>v_9</th>\n",
              "      <th>v_10</th>\n",
              "      <th>v_11</th>\n",
              "      <th>v_12</th>\n",
              "      <th>v_13</th>\n",
              "      <th>v_14</th>\n",
              "    </tr>\n",
              "  </thead>\n",
              "  <tbody>\n",
              "    <tr>\n",
              "      <th>0</th>\n",
              "      <td>0</td>\n",
              "      <td>736</td>\n",
              "      <td>20040402</td>\n",
              "      <td>30.0</td>\n",
              "      <td>6</td>\n",
              "      <td>1.0</td>\n",
              "      <td>0.0</td>\n",
              "      <td>0.0</td>\n",
              "      <td>60</td>\n",
              "      <td>12.5</td>\n",
              "      <td>0.0</td>\n",
              "      <td>1046</td>\n",
              "      <td>0</td>\n",
              "      <td>0</td>\n",
              "      <td>20160404</td>\n",
              "      <td>1850</td>\n",
              "      <td>43.357796</td>\n",
              "      <td>3.966344</td>\n",
              "      <td>0.050257</td>\n",
              "      <td>2.159744</td>\n",
              "      <td>1.143786</td>\n",
              "      <td>0.235676</td>\n",
              "      <td>0.101988</td>\n",
              "      <td>0.129549</td>\n",
              "      <td>0.022816</td>\n",
              "      <td>0.097462</td>\n",
              "      <td>-2.881803</td>\n",
              "      <td>2.804097</td>\n",
              "      <td>-2.420821</td>\n",
              "      <td>0.795292</td>\n",
              "      <td>0.914762</td>\n",
              "    </tr>\n",
              "    <tr>\n",
              "      <th>1</th>\n",
              "      <td>1</td>\n",
              "      <td>2262</td>\n",
              "      <td>20030301</td>\n",
              "      <td>40.0</td>\n",
              "      <td>1</td>\n",
              "      <td>2.0</td>\n",
              "      <td>0.0</td>\n",
              "      <td>0.0</td>\n",
              "      <td>0</td>\n",
              "      <td>15.0</td>\n",
              "      <td>-</td>\n",
              "      <td>4366</td>\n",
              "      <td>0</td>\n",
              "      <td>0</td>\n",
              "      <td>20160309</td>\n",
              "      <td>3600</td>\n",
              "      <td>45.305273</td>\n",
              "      <td>5.236112</td>\n",
              "      <td>0.137925</td>\n",
              "      <td>1.380657</td>\n",
              "      <td>-1.422165</td>\n",
              "      <td>0.264777</td>\n",
              "      <td>0.121004</td>\n",
              "      <td>0.135731</td>\n",
              "      <td>0.026597</td>\n",
              "      <td>0.020582</td>\n",
              "      <td>-4.900482</td>\n",
              "      <td>2.096338</td>\n",
              "      <td>-1.030483</td>\n",
              "      <td>-1.722674</td>\n",
              "      <td>0.245522</td>\n",
              "    </tr>\n",
              "    <tr>\n",
              "      <th>2</th>\n",
              "      <td>2</td>\n",
              "      <td>14874</td>\n",
              "      <td>20040403</td>\n",
              "      <td>115.0</td>\n",
              "      <td>15</td>\n",
              "      <td>1.0</td>\n",
              "      <td>0.0</td>\n",
              "      <td>0.0</td>\n",
              "      <td>163</td>\n",
              "      <td>12.5</td>\n",
              "      <td>0.0</td>\n",
              "      <td>2806</td>\n",
              "      <td>0</td>\n",
              "      <td>0</td>\n",
              "      <td>20160402</td>\n",
              "      <td>6222</td>\n",
              "      <td>45.978359</td>\n",
              "      <td>4.823792</td>\n",
              "      <td>1.319524</td>\n",
              "      <td>-0.998467</td>\n",
              "      <td>-0.996911</td>\n",
              "      <td>0.251410</td>\n",
              "      <td>0.114912</td>\n",
              "      <td>0.165147</td>\n",
              "      <td>0.062173</td>\n",
              "      <td>0.027075</td>\n",
              "      <td>-4.846749</td>\n",
              "      <td>1.803559</td>\n",
              "      <td>1.565330</td>\n",
              "      <td>-0.832687</td>\n",
              "      <td>-0.229963</td>\n",
              "    </tr>\n",
              "    <tr>\n",
              "      <th>3</th>\n",
              "      <td>3</td>\n",
              "      <td>71865</td>\n",
              "      <td>19960908</td>\n",
              "      <td>109.0</td>\n",
              "      <td>10</td>\n",
              "      <td>0.0</td>\n",
              "      <td>0.0</td>\n",
              "      <td>1.0</td>\n",
              "      <td>193</td>\n",
              "      <td>15.0</td>\n",
              "      <td>0.0</td>\n",
              "      <td>434</td>\n",
              "      <td>0</td>\n",
              "      <td>0</td>\n",
              "      <td>20160312</td>\n",
              "      <td>2400</td>\n",
              "      <td>45.687478</td>\n",
              "      <td>4.492574</td>\n",
              "      <td>-0.050616</td>\n",
              "      <td>0.883600</td>\n",
              "      <td>-2.228079</td>\n",
              "      <td>0.274293</td>\n",
              "      <td>0.110300</td>\n",
              "      <td>0.121964</td>\n",
              "      <td>0.033395</td>\n",
              "      <td>0.000000</td>\n",
              "      <td>-4.509599</td>\n",
              "      <td>1.285940</td>\n",
              "      <td>-0.501868</td>\n",
              "      <td>-2.438353</td>\n",
              "      <td>-0.478699</td>\n",
              "    </tr>\n",
              "    <tr>\n",
              "      <th>4</th>\n",
              "      <td>4</td>\n",
              "      <td>111080</td>\n",
              "      <td>20120103</td>\n",
              "      <td>110.0</td>\n",
              "      <td>5</td>\n",
              "      <td>1.0</td>\n",
              "      <td>0.0</td>\n",
              "      <td>0.0</td>\n",
              "      <td>68</td>\n",
              "      <td>5.0</td>\n",
              "      <td>0.0</td>\n",
              "      <td>6977</td>\n",
              "      <td>0</td>\n",
              "      <td>0</td>\n",
              "      <td>20160313</td>\n",
              "      <td>5200</td>\n",
              "      <td>44.383511</td>\n",
              "      <td>2.031433</td>\n",
              "      <td>0.572169</td>\n",
              "      <td>-1.571239</td>\n",
              "      <td>2.246088</td>\n",
              "      <td>0.228036</td>\n",
              "      <td>0.073205</td>\n",
              "      <td>0.091880</td>\n",
              "      <td>0.078819</td>\n",
              "      <td>0.121534</td>\n",
              "      <td>-1.896240</td>\n",
              "      <td>0.910783</td>\n",
              "      <td>0.931110</td>\n",
              "      <td>2.834518</td>\n",
              "      <td>1.923482</td>\n",
              "    </tr>\n",
              "  </tbody>\n",
              "</table>\n",
              "</div>"
            ],
            "text/plain": [
              "   SaleID    name   regDate  model  brand  bodyType  fuelType  gearbox  power  \\\n",
              "0       0     736  20040402   30.0      6       1.0       0.0      0.0     60   \n",
              "1       1    2262  20030301   40.0      1       2.0       0.0      0.0      0   \n",
              "2       2   14874  20040403  115.0     15       1.0       0.0      0.0    163   \n",
              "3       3   71865  19960908  109.0     10       0.0       0.0      1.0    193   \n",
              "4       4  111080  20120103  110.0      5       1.0       0.0      0.0     68   \n",
              "\n",
              "   kilometer notRepairedDamage  regionCode  seller  offerType  creatDate  \\\n",
              "0       12.5               0.0        1046       0          0   20160404   \n",
              "1       15.0                 -        4366       0          0   20160309   \n",
              "2       12.5               0.0        2806       0          0   20160402   \n",
              "3       15.0               0.0         434       0          0   20160312   \n",
              "4        5.0               0.0        6977       0          0   20160313   \n",
              "\n",
              "   price        v_0       v_1       v_2       v_3       v_4       v_5  \\\n",
              "0   1850  43.357796  3.966344  0.050257  2.159744  1.143786  0.235676   \n",
              "1   3600  45.305273  5.236112  0.137925  1.380657 -1.422165  0.264777   \n",
              "2   6222  45.978359  4.823792  1.319524 -0.998467 -0.996911  0.251410   \n",
              "3   2400  45.687478  4.492574 -0.050616  0.883600 -2.228079  0.274293   \n",
              "4   5200  44.383511  2.031433  0.572169 -1.571239  2.246088  0.228036   \n",
              "\n",
              "        v_6       v_7       v_8       v_9      v_10      v_11      v_12  \\\n",
              "0  0.101988  0.129549  0.022816  0.097462 -2.881803  2.804097 -2.420821   \n",
              "1  0.121004  0.135731  0.026597  0.020582 -4.900482  2.096338 -1.030483   \n",
              "2  0.114912  0.165147  0.062173  0.027075 -4.846749  1.803559  1.565330   \n",
              "3  0.110300  0.121964  0.033395  0.000000 -4.509599  1.285940 -0.501868   \n",
              "4  0.073205  0.091880  0.078819  0.121534 -1.896240  0.910783  0.931110   \n",
              "\n",
              "       v_13      v_14  \n",
              "0  0.795292  0.914762  \n",
              "1 -1.722674  0.245522  \n",
              "2 -0.832687 -0.229963  \n",
              "3 -2.438353 -0.478699  \n",
              "4  2.834518  1.923482  "
            ]
          },
          "metadata": {
            "tags": []
          },
          "execution_count": 6
        }
      ]
    },
    {
      "cell_type": "code",
      "metadata": {
        "id": "IeB_c5AzpB-F",
        "colab_type": "code",
        "outputId": "fbfd0f75-1419-49c7-8aa0-e43453d6e3af",
        "colab": {
          "base_uri": "https://localhost:8080/",
          "height": 619
        }
      },
      "source": [
        "# 训练数据基本信息\n",
        "train_data.info()"
      ],
      "execution_count": 7,
      "outputs": [
        {
          "output_type": "stream",
          "text": [
            "<class 'pandas.core.frame.DataFrame'>\n",
            "RangeIndex: 150000 entries, 0 to 149999\n",
            "Data columns (total 31 columns):\n",
            "SaleID               150000 non-null int64\n",
            "name                 150000 non-null int64\n",
            "regDate              150000 non-null int64\n",
            "model                149999 non-null float64\n",
            "brand                150000 non-null int64\n",
            "bodyType             145494 non-null float64\n",
            "fuelType             141320 non-null float64\n",
            "gearbox              144019 non-null float64\n",
            "power                150000 non-null int64\n",
            "kilometer            150000 non-null float64\n",
            "notRepairedDamage    150000 non-null object\n",
            "regionCode           150000 non-null int64\n",
            "seller               150000 non-null int64\n",
            "offerType            150000 non-null int64\n",
            "creatDate            150000 non-null int64\n",
            "price                150000 non-null int64\n",
            "v_0                  150000 non-null float64\n",
            "v_1                  150000 non-null float64\n",
            "v_2                  150000 non-null float64\n",
            "v_3                  150000 non-null float64\n",
            "v_4                  150000 non-null float64\n",
            "v_5                  150000 non-null float64\n",
            "v_6                  150000 non-null float64\n",
            "v_7                  150000 non-null float64\n",
            "v_8                  150000 non-null float64\n",
            "v_9                  150000 non-null float64\n",
            "v_10                 150000 non-null float64\n",
            "v_11                 150000 non-null float64\n",
            "v_12                 150000 non-null float64\n",
            "v_13                 150000 non-null float64\n",
            "v_14                 150000 non-null float64\n",
            "dtypes: float64(20), int64(10), object(1)\n",
            "memory usage: 35.5+ MB\n"
          ],
          "name": "stdout"
        }
      ]
    },
    {
      "cell_type": "code",
      "metadata": {
        "id": "M8wP2Yx2pHDe",
        "colab_type": "code",
        "outputId": "d92dc235-e642-40dd-aa89-55b5f9b76903",
        "colab": {
          "base_uri": "https://localhost:8080/",
          "height": 306
        }
      },
      "source": [
        "# 训练数据描述信息\n",
        "train_data.describe()"
      ],
      "execution_count": 8,
      "outputs": [
        {
          "output_type": "execute_result",
          "data": {
            "text/html": [
              "<div>\n",
              "<style scoped>\n",
              "    .dataframe tbody tr th:only-of-type {\n",
              "        vertical-align: middle;\n",
              "    }\n",
              "\n",
              "    .dataframe tbody tr th {\n",
              "        vertical-align: top;\n",
              "    }\n",
              "\n",
              "    .dataframe thead th {\n",
              "        text-align: right;\n",
              "    }\n",
              "</style>\n",
              "<table border=\"1\" class=\"dataframe\">\n",
              "  <thead>\n",
              "    <tr style=\"text-align: right;\">\n",
              "      <th></th>\n",
              "      <th>SaleID</th>\n",
              "      <th>name</th>\n",
              "      <th>regDate</th>\n",
              "      <th>model</th>\n",
              "      <th>brand</th>\n",
              "      <th>bodyType</th>\n",
              "      <th>fuelType</th>\n",
              "      <th>gearbox</th>\n",
              "      <th>power</th>\n",
              "      <th>kilometer</th>\n",
              "      <th>regionCode</th>\n",
              "      <th>seller</th>\n",
              "      <th>offerType</th>\n",
              "      <th>creatDate</th>\n",
              "      <th>price</th>\n",
              "      <th>v_0</th>\n",
              "      <th>v_1</th>\n",
              "      <th>v_2</th>\n",
              "      <th>v_3</th>\n",
              "      <th>v_4</th>\n",
              "      <th>v_5</th>\n",
              "      <th>v_6</th>\n",
              "      <th>v_7</th>\n",
              "      <th>v_8</th>\n",
              "      <th>v_9</th>\n",
              "      <th>v_10</th>\n",
              "      <th>v_11</th>\n",
              "      <th>v_12</th>\n",
              "      <th>v_13</th>\n",
              "      <th>v_14</th>\n",
              "    </tr>\n",
              "  </thead>\n",
              "  <tbody>\n",
              "    <tr>\n",
              "      <th>count</th>\n",
              "      <td>150000.000000</td>\n",
              "      <td>150000.000000</td>\n",
              "      <td>1.500000e+05</td>\n",
              "      <td>149999.000000</td>\n",
              "      <td>150000.000000</td>\n",
              "      <td>145494.000000</td>\n",
              "      <td>141320.000000</td>\n",
              "      <td>144019.000000</td>\n",
              "      <td>150000.000000</td>\n",
              "      <td>150000.000000</td>\n",
              "      <td>150000.000000</td>\n",
              "      <td>150000.000000</td>\n",
              "      <td>150000.0</td>\n",
              "      <td>1.500000e+05</td>\n",
              "      <td>150000.000000</td>\n",
              "      <td>150000.000000</td>\n",
              "      <td>150000.000000</td>\n",
              "      <td>150000.000000</td>\n",
              "      <td>150000.000000</td>\n",
              "      <td>150000.000000</td>\n",
              "      <td>150000.000000</td>\n",
              "      <td>150000.000000</td>\n",
              "      <td>150000.000000</td>\n",
              "      <td>150000.000000</td>\n",
              "      <td>150000.000000</td>\n",
              "      <td>150000.000000</td>\n",
              "      <td>150000.000000</td>\n",
              "      <td>150000.000000</td>\n",
              "      <td>150000.000000</td>\n",
              "      <td>150000.000000</td>\n",
              "    </tr>\n",
              "    <tr>\n",
              "      <th>mean</th>\n",
              "      <td>74999.500000</td>\n",
              "      <td>68349.172873</td>\n",
              "      <td>2.003417e+07</td>\n",
              "      <td>47.129021</td>\n",
              "      <td>8.052733</td>\n",
              "      <td>1.792369</td>\n",
              "      <td>0.375842</td>\n",
              "      <td>0.224943</td>\n",
              "      <td>119.316547</td>\n",
              "      <td>12.597160</td>\n",
              "      <td>2583.077267</td>\n",
              "      <td>0.000007</td>\n",
              "      <td>0.0</td>\n",
              "      <td>2.016033e+07</td>\n",
              "      <td>5923.327333</td>\n",
              "      <td>44.406268</td>\n",
              "      <td>-0.044809</td>\n",
              "      <td>0.080765</td>\n",
              "      <td>0.078833</td>\n",
              "      <td>0.017875</td>\n",
              "      <td>0.248204</td>\n",
              "      <td>0.044923</td>\n",
              "      <td>0.124692</td>\n",
              "      <td>0.058144</td>\n",
              "      <td>0.061996</td>\n",
              "      <td>-0.001000</td>\n",
              "      <td>0.009035</td>\n",
              "      <td>0.004813</td>\n",
              "      <td>0.000313</td>\n",
              "      <td>-0.000688</td>\n",
              "    </tr>\n",
              "    <tr>\n",
              "      <th>std</th>\n",
              "      <td>43301.414527</td>\n",
              "      <td>61103.875095</td>\n",
              "      <td>5.364988e+04</td>\n",
              "      <td>49.536040</td>\n",
              "      <td>7.864956</td>\n",
              "      <td>1.760640</td>\n",
              "      <td>0.548677</td>\n",
              "      <td>0.417546</td>\n",
              "      <td>177.168419</td>\n",
              "      <td>3.919576</td>\n",
              "      <td>1885.363218</td>\n",
              "      <td>0.002582</td>\n",
              "      <td>0.0</td>\n",
              "      <td>1.067328e+02</td>\n",
              "      <td>7501.998477</td>\n",
              "      <td>2.457548</td>\n",
              "      <td>3.641893</td>\n",
              "      <td>2.929618</td>\n",
              "      <td>2.026514</td>\n",
              "      <td>1.193661</td>\n",
              "      <td>0.045804</td>\n",
              "      <td>0.051743</td>\n",
              "      <td>0.201410</td>\n",
              "      <td>0.029186</td>\n",
              "      <td>0.035692</td>\n",
              "      <td>3.772386</td>\n",
              "      <td>3.286071</td>\n",
              "      <td>2.517478</td>\n",
              "      <td>1.288988</td>\n",
              "      <td>1.038685</td>\n",
              "    </tr>\n",
              "    <tr>\n",
              "      <th>min</th>\n",
              "      <td>0.000000</td>\n",
              "      <td>0.000000</td>\n",
              "      <td>1.991000e+07</td>\n",
              "      <td>0.000000</td>\n",
              "      <td>0.000000</td>\n",
              "      <td>0.000000</td>\n",
              "      <td>0.000000</td>\n",
              "      <td>0.000000</td>\n",
              "      <td>0.000000</td>\n",
              "      <td>0.500000</td>\n",
              "      <td>0.000000</td>\n",
              "      <td>0.000000</td>\n",
              "      <td>0.0</td>\n",
              "      <td>2.015062e+07</td>\n",
              "      <td>11.000000</td>\n",
              "      <td>30.451976</td>\n",
              "      <td>-4.295589</td>\n",
              "      <td>-4.470671</td>\n",
              "      <td>-7.275037</td>\n",
              "      <td>-4.364565</td>\n",
              "      <td>0.000000</td>\n",
              "      <td>0.000000</td>\n",
              "      <td>0.000000</td>\n",
              "      <td>0.000000</td>\n",
              "      <td>0.000000</td>\n",
              "      <td>-9.168192</td>\n",
              "      <td>-5.558207</td>\n",
              "      <td>-9.639552</td>\n",
              "      <td>-4.153899</td>\n",
              "      <td>-6.546556</td>\n",
              "    </tr>\n",
              "    <tr>\n",
              "      <th>25%</th>\n",
              "      <td>37499.750000</td>\n",
              "      <td>11156.000000</td>\n",
              "      <td>1.999091e+07</td>\n",
              "      <td>10.000000</td>\n",
              "      <td>1.000000</td>\n",
              "      <td>0.000000</td>\n",
              "      <td>0.000000</td>\n",
              "      <td>0.000000</td>\n",
              "      <td>75.000000</td>\n",
              "      <td>12.500000</td>\n",
              "      <td>1018.000000</td>\n",
              "      <td>0.000000</td>\n",
              "      <td>0.0</td>\n",
              "      <td>2.016031e+07</td>\n",
              "      <td>1300.000000</td>\n",
              "      <td>43.135799</td>\n",
              "      <td>-3.192349</td>\n",
              "      <td>-0.970671</td>\n",
              "      <td>-1.462580</td>\n",
              "      <td>-0.921191</td>\n",
              "      <td>0.243615</td>\n",
              "      <td>0.000038</td>\n",
              "      <td>0.062474</td>\n",
              "      <td>0.035334</td>\n",
              "      <td>0.033930</td>\n",
              "      <td>-3.722303</td>\n",
              "      <td>-1.951543</td>\n",
              "      <td>-1.871846</td>\n",
              "      <td>-1.057789</td>\n",
              "      <td>-0.437034</td>\n",
              "    </tr>\n",
              "    <tr>\n",
              "      <th>50%</th>\n",
              "      <td>74999.500000</td>\n",
              "      <td>51638.000000</td>\n",
              "      <td>2.003091e+07</td>\n",
              "      <td>30.000000</td>\n",
              "      <td>6.000000</td>\n",
              "      <td>1.000000</td>\n",
              "      <td>0.000000</td>\n",
              "      <td>0.000000</td>\n",
              "      <td>110.000000</td>\n",
              "      <td>15.000000</td>\n",
              "      <td>2196.000000</td>\n",
              "      <td>0.000000</td>\n",
              "      <td>0.0</td>\n",
              "      <td>2.016032e+07</td>\n",
              "      <td>3250.000000</td>\n",
              "      <td>44.610266</td>\n",
              "      <td>-3.052671</td>\n",
              "      <td>-0.382947</td>\n",
              "      <td>0.099722</td>\n",
              "      <td>-0.075910</td>\n",
              "      <td>0.257798</td>\n",
              "      <td>0.000812</td>\n",
              "      <td>0.095866</td>\n",
              "      <td>0.057014</td>\n",
              "      <td>0.058484</td>\n",
              "      <td>1.624076</td>\n",
              "      <td>-0.358053</td>\n",
              "      <td>-0.130753</td>\n",
              "      <td>-0.036245</td>\n",
              "      <td>0.141246</td>\n",
              "    </tr>\n",
              "    <tr>\n",
              "      <th>75%</th>\n",
              "      <td>112499.250000</td>\n",
              "      <td>118841.250000</td>\n",
              "      <td>2.007111e+07</td>\n",
              "      <td>66.000000</td>\n",
              "      <td>13.000000</td>\n",
              "      <td>3.000000</td>\n",
              "      <td>1.000000</td>\n",
              "      <td>0.000000</td>\n",
              "      <td>150.000000</td>\n",
              "      <td>15.000000</td>\n",
              "      <td>3843.000000</td>\n",
              "      <td>0.000000</td>\n",
              "      <td>0.0</td>\n",
              "      <td>2.016033e+07</td>\n",
              "      <td>7700.000000</td>\n",
              "      <td>46.004721</td>\n",
              "      <td>4.000670</td>\n",
              "      <td>0.241335</td>\n",
              "      <td>1.565838</td>\n",
              "      <td>0.868758</td>\n",
              "      <td>0.265297</td>\n",
              "      <td>0.102009</td>\n",
              "      <td>0.125243</td>\n",
              "      <td>0.079382</td>\n",
              "      <td>0.087491</td>\n",
              "      <td>2.844357</td>\n",
              "      <td>1.255022</td>\n",
              "      <td>1.776933</td>\n",
              "      <td>0.942813</td>\n",
              "      <td>0.680378</td>\n",
              "    </tr>\n",
              "    <tr>\n",
              "      <th>max</th>\n",
              "      <td>149999.000000</td>\n",
              "      <td>196812.000000</td>\n",
              "      <td>2.015121e+07</td>\n",
              "      <td>247.000000</td>\n",
              "      <td>39.000000</td>\n",
              "      <td>7.000000</td>\n",
              "      <td>6.000000</td>\n",
              "      <td>1.000000</td>\n",
              "      <td>19312.000000</td>\n",
              "      <td>15.000000</td>\n",
              "      <td>8120.000000</td>\n",
              "      <td>1.000000</td>\n",
              "      <td>0.0</td>\n",
              "      <td>2.016041e+07</td>\n",
              "      <td>99999.000000</td>\n",
              "      <td>52.304178</td>\n",
              "      <td>7.320308</td>\n",
              "      <td>19.035496</td>\n",
              "      <td>9.854702</td>\n",
              "      <td>6.829352</td>\n",
              "      <td>0.291838</td>\n",
              "      <td>0.151420</td>\n",
              "      <td>1.404936</td>\n",
              "      <td>0.160791</td>\n",
              "      <td>0.222787</td>\n",
              "      <td>12.357011</td>\n",
              "      <td>18.819042</td>\n",
              "      <td>13.847792</td>\n",
              "      <td>11.147669</td>\n",
              "      <td>8.658418</td>\n",
              "    </tr>\n",
              "  </tbody>\n",
              "</table>\n",
              "</div>"
            ],
            "text/plain": [
              "              SaleID           name       regDate          model  \\\n",
              "count  150000.000000  150000.000000  1.500000e+05  149999.000000   \n",
              "mean    74999.500000   68349.172873  2.003417e+07      47.129021   \n",
              "std     43301.414527   61103.875095  5.364988e+04      49.536040   \n",
              "min         0.000000       0.000000  1.991000e+07       0.000000   \n",
              "25%     37499.750000   11156.000000  1.999091e+07      10.000000   \n",
              "50%     74999.500000   51638.000000  2.003091e+07      30.000000   \n",
              "75%    112499.250000  118841.250000  2.007111e+07      66.000000   \n",
              "max    149999.000000  196812.000000  2.015121e+07     247.000000   \n",
              "\n",
              "               brand       bodyType       fuelType        gearbox  \\\n",
              "count  150000.000000  145494.000000  141320.000000  144019.000000   \n",
              "mean        8.052733       1.792369       0.375842       0.224943   \n",
              "std         7.864956       1.760640       0.548677       0.417546   \n",
              "min         0.000000       0.000000       0.000000       0.000000   \n",
              "25%         1.000000       0.000000       0.000000       0.000000   \n",
              "50%         6.000000       1.000000       0.000000       0.000000   \n",
              "75%        13.000000       3.000000       1.000000       0.000000   \n",
              "max        39.000000       7.000000       6.000000       1.000000   \n",
              "\n",
              "               power      kilometer     regionCode         seller  offerType  \\\n",
              "count  150000.000000  150000.000000  150000.000000  150000.000000   150000.0   \n",
              "mean      119.316547      12.597160    2583.077267       0.000007        0.0   \n",
              "std       177.168419       3.919576    1885.363218       0.002582        0.0   \n",
              "min         0.000000       0.500000       0.000000       0.000000        0.0   \n",
              "25%        75.000000      12.500000    1018.000000       0.000000        0.0   \n",
              "50%       110.000000      15.000000    2196.000000       0.000000        0.0   \n",
              "75%       150.000000      15.000000    3843.000000       0.000000        0.0   \n",
              "max     19312.000000      15.000000    8120.000000       1.000000        0.0   \n",
              "\n",
              "          creatDate          price            v_0            v_1  \\\n",
              "count  1.500000e+05  150000.000000  150000.000000  150000.000000   \n",
              "mean   2.016033e+07    5923.327333      44.406268      -0.044809   \n",
              "std    1.067328e+02    7501.998477       2.457548       3.641893   \n",
              "min    2.015062e+07      11.000000      30.451976      -4.295589   \n",
              "25%    2.016031e+07    1300.000000      43.135799      -3.192349   \n",
              "50%    2.016032e+07    3250.000000      44.610266      -3.052671   \n",
              "75%    2.016033e+07    7700.000000      46.004721       4.000670   \n",
              "max    2.016041e+07   99999.000000      52.304178       7.320308   \n",
              "\n",
              "                 v_2            v_3            v_4            v_5  \\\n",
              "count  150000.000000  150000.000000  150000.000000  150000.000000   \n",
              "mean        0.080765       0.078833       0.017875       0.248204   \n",
              "std         2.929618       2.026514       1.193661       0.045804   \n",
              "min        -4.470671      -7.275037      -4.364565       0.000000   \n",
              "25%        -0.970671      -1.462580      -0.921191       0.243615   \n",
              "50%        -0.382947       0.099722      -0.075910       0.257798   \n",
              "75%         0.241335       1.565838       0.868758       0.265297   \n",
              "max        19.035496       9.854702       6.829352       0.291838   \n",
              "\n",
              "                 v_6            v_7            v_8            v_9  \\\n",
              "count  150000.000000  150000.000000  150000.000000  150000.000000   \n",
              "mean        0.044923       0.124692       0.058144       0.061996   \n",
              "std         0.051743       0.201410       0.029186       0.035692   \n",
              "min         0.000000       0.000000       0.000000       0.000000   \n",
              "25%         0.000038       0.062474       0.035334       0.033930   \n",
              "50%         0.000812       0.095866       0.057014       0.058484   \n",
              "75%         0.102009       0.125243       0.079382       0.087491   \n",
              "max         0.151420       1.404936       0.160791       0.222787   \n",
              "\n",
              "                v_10           v_11           v_12           v_13  \\\n",
              "count  150000.000000  150000.000000  150000.000000  150000.000000   \n",
              "mean       -0.001000       0.009035       0.004813       0.000313   \n",
              "std         3.772386       3.286071       2.517478       1.288988   \n",
              "min        -9.168192      -5.558207      -9.639552      -4.153899   \n",
              "25%        -3.722303      -1.951543      -1.871846      -1.057789   \n",
              "50%         1.624076      -0.358053      -0.130753      -0.036245   \n",
              "75%         2.844357       1.255022       1.776933       0.942813   \n",
              "max        12.357011      18.819042      13.847792      11.147669   \n",
              "\n",
              "                v_14  \n",
              "count  150000.000000  \n",
              "mean       -0.000688  \n",
              "std         1.038685  \n",
              "min        -6.546556  \n",
              "25%        -0.437034  \n",
              "50%         0.141246  \n",
              "75%         0.680378  \n",
              "max         8.658418  "
            ]
          },
          "metadata": {
            "tags": []
          },
          "execution_count": 8
        }
      ]
    },
    {
      "cell_type": "code",
      "metadata": {
        "id": "v5BziKbypIw9",
        "colab_type": "code",
        "outputId": "5a7fb627-0315-4b9f-b84e-dc9bcabeb181",
        "colab": {
          "base_uri": "https://localhost:8080/",
          "height": 216
        }
      },
      "source": [
        "test_data.head()"
      ],
      "execution_count": 9,
      "outputs": [
        {
          "output_type": "execute_result",
          "data": {
            "text/html": [
              "<div>\n",
              "<style scoped>\n",
              "    .dataframe tbody tr th:only-of-type {\n",
              "        vertical-align: middle;\n",
              "    }\n",
              "\n",
              "    .dataframe tbody tr th {\n",
              "        vertical-align: top;\n",
              "    }\n",
              "\n",
              "    .dataframe thead th {\n",
              "        text-align: right;\n",
              "    }\n",
              "</style>\n",
              "<table border=\"1\" class=\"dataframe\">\n",
              "  <thead>\n",
              "    <tr style=\"text-align: right;\">\n",
              "      <th></th>\n",
              "      <th>SaleID</th>\n",
              "      <th>name</th>\n",
              "      <th>regDate</th>\n",
              "      <th>model</th>\n",
              "      <th>brand</th>\n",
              "      <th>bodyType</th>\n",
              "      <th>fuelType</th>\n",
              "      <th>gearbox</th>\n",
              "      <th>power</th>\n",
              "      <th>kilometer</th>\n",
              "      <th>notRepairedDamage</th>\n",
              "      <th>regionCode</th>\n",
              "      <th>seller</th>\n",
              "      <th>offerType</th>\n",
              "      <th>creatDate</th>\n",
              "      <th>v_0</th>\n",
              "      <th>v_1</th>\n",
              "      <th>v_2</th>\n",
              "      <th>v_3</th>\n",
              "      <th>v_4</th>\n",
              "      <th>v_5</th>\n",
              "      <th>v_6</th>\n",
              "      <th>v_7</th>\n",
              "      <th>v_8</th>\n",
              "      <th>v_9</th>\n",
              "      <th>v_10</th>\n",
              "      <th>v_11</th>\n",
              "      <th>v_12</th>\n",
              "      <th>v_13</th>\n",
              "      <th>v_14</th>\n",
              "    </tr>\n",
              "  </thead>\n",
              "  <tbody>\n",
              "    <tr>\n",
              "      <th>0</th>\n",
              "      <td>150000</td>\n",
              "      <td>66932</td>\n",
              "      <td>20111212</td>\n",
              "      <td>222.0</td>\n",
              "      <td>4</td>\n",
              "      <td>5.0</td>\n",
              "      <td>1.0</td>\n",
              "      <td>1.0</td>\n",
              "      <td>313</td>\n",
              "      <td>15.0</td>\n",
              "      <td>0.0</td>\n",
              "      <td>1440</td>\n",
              "      <td>0</td>\n",
              "      <td>0</td>\n",
              "      <td>20160329</td>\n",
              "      <td>49.593127</td>\n",
              "      <td>5.246568</td>\n",
              "      <td>1.001130</td>\n",
              "      <td>-4.122264</td>\n",
              "      <td>0.737532</td>\n",
              "      <td>0.264405</td>\n",
              "      <td>0.121800</td>\n",
              "      <td>0.070899</td>\n",
              "      <td>0.106558</td>\n",
              "      <td>0.078867</td>\n",
              "      <td>-7.050969</td>\n",
              "      <td>-0.854626</td>\n",
              "      <td>4.800151</td>\n",
              "      <td>0.620011</td>\n",
              "      <td>-3.664654</td>\n",
              "    </tr>\n",
              "    <tr>\n",
              "      <th>1</th>\n",
              "      <td>150001</td>\n",
              "      <td>174960</td>\n",
              "      <td>19990211</td>\n",
              "      <td>19.0</td>\n",
              "      <td>21</td>\n",
              "      <td>0.0</td>\n",
              "      <td>0.0</td>\n",
              "      <td>0.0</td>\n",
              "      <td>75</td>\n",
              "      <td>12.5</td>\n",
              "      <td>1.0</td>\n",
              "      <td>5419</td>\n",
              "      <td>0</td>\n",
              "      <td>0</td>\n",
              "      <td>20160404</td>\n",
              "      <td>42.395926</td>\n",
              "      <td>-3.253950</td>\n",
              "      <td>-1.753754</td>\n",
              "      <td>3.646605</td>\n",
              "      <td>-0.725597</td>\n",
              "      <td>0.261745</td>\n",
              "      <td>0.000000</td>\n",
              "      <td>0.096733</td>\n",
              "      <td>0.013705</td>\n",
              "      <td>0.052383</td>\n",
              "      <td>3.679418</td>\n",
              "      <td>-0.729039</td>\n",
              "      <td>-3.796107</td>\n",
              "      <td>-1.541230</td>\n",
              "      <td>-0.757055</td>\n",
              "    </tr>\n",
              "    <tr>\n",
              "      <th>2</th>\n",
              "      <td>150002</td>\n",
              "      <td>5356</td>\n",
              "      <td>20090304</td>\n",
              "      <td>82.0</td>\n",
              "      <td>21</td>\n",
              "      <td>0.0</td>\n",
              "      <td>0.0</td>\n",
              "      <td>0.0</td>\n",
              "      <td>109</td>\n",
              "      <td>7.0</td>\n",
              "      <td>0.0</td>\n",
              "      <td>5045</td>\n",
              "      <td>0</td>\n",
              "      <td>0</td>\n",
              "      <td>20160308</td>\n",
              "      <td>45.841370</td>\n",
              "      <td>4.704178</td>\n",
              "      <td>0.155391</td>\n",
              "      <td>-1.118443</td>\n",
              "      <td>-0.229160</td>\n",
              "      <td>0.260216</td>\n",
              "      <td>0.112081</td>\n",
              "      <td>0.078082</td>\n",
              "      <td>0.062078</td>\n",
              "      <td>0.050540</td>\n",
              "      <td>-4.926690</td>\n",
              "      <td>1.001106</td>\n",
              "      <td>0.826562</td>\n",
              "      <td>0.138226</td>\n",
              "      <td>0.754033</td>\n",
              "    </tr>\n",
              "    <tr>\n",
              "      <th>3</th>\n",
              "      <td>150003</td>\n",
              "      <td>50688</td>\n",
              "      <td>20100405</td>\n",
              "      <td>0.0</td>\n",
              "      <td>0</td>\n",
              "      <td>0.0</td>\n",
              "      <td>0.0</td>\n",
              "      <td>1.0</td>\n",
              "      <td>160</td>\n",
              "      <td>7.0</td>\n",
              "      <td>0.0</td>\n",
              "      <td>4023</td>\n",
              "      <td>0</td>\n",
              "      <td>0</td>\n",
              "      <td>20160325</td>\n",
              "      <td>46.440649</td>\n",
              "      <td>4.319155</td>\n",
              "      <td>0.428897</td>\n",
              "      <td>-2.037916</td>\n",
              "      <td>-0.234757</td>\n",
              "      <td>0.260466</td>\n",
              "      <td>0.106727</td>\n",
              "      <td>0.081146</td>\n",
              "      <td>0.075971</td>\n",
              "      <td>0.048268</td>\n",
              "      <td>-4.864637</td>\n",
              "      <td>0.505493</td>\n",
              "      <td>1.870379</td>\n",
              "      <td>0.366038</td>\n",
              "      <td>1.312775</td>\n",
              "    </tr>\n",
              "    <tr>\n",
              "      <th>4</th>\n",
              "      <td>150004</td>\n",
              "      <td>161428</td>\n",
              "      <td>19970703</td>\n",
              "      <td>26.0</td>\n",
              "      <td>14</td>\n",
              "      <td>2.0</td>\n",
              "      <td>0.0</td>\n",
              "      <td>0.0</td>\n",
              "      <td>75</td>\n",
              "      <td>15.0</td>\n",
              "      <td>0.0</td>\n",
              "      <td>3103</td>\n",
              "      <td>0</td>\n",
              "      <td>0</td>\n",
              "      <td>20160309</td>\n",
              "      <td>42.184604</td>\n",
              "      <td>-3.166234</td>\n",
              "      <td>-1.572058</td>\n",
              "      <td>2.604143</td>\n",
              "      <td>0.387498</td>\n",
              "      <td>0.250999</td>\n",
              "      <td>0.000000</td>\n",
              "      <td>0.077806</td>\n",
              "      <td>0.028600</td>\n",
              "      <td>0.081709</td>\n",
              "      <td>3.616475</td>\n",
              "      <td>-0.673236</td>\n",
              "      <td>-3.197685</td>\n",
              "      <td>-0.025678</td>\n",
              "      <td>-0.101290</td>\n",
              "    </tr>\n",
              "  </tbody>\n",
              "</table>\n",
              "</div>"
            ],
            "text/plain": [
              "   SaleID    name   regDate  model  brand  bodyType  fuelType  gearbox  power  \\\n",
              "0  150000   66932  20111212  222.0      4       5.0       1.0      1.0    313   \n",
              "1  150001  174960  19990211   19.0     21       0.0       0.0      0.0     75   \n",
              "2  150002    5356  20090304   82.0     21       0.0       0.0      0.0    109   \n",
              "3  150003   50688  20100405    0.0      0       0.0       0.0      1.0    160   \n",
              "4  150004  161428  19970703   26.0     14       2.0       0.0      0.0     75   \n",
              "\n",
              "   kilometer notRepairedDamage  regionCode  seller  offerType  creatDate  \\\n",
              "0       15.0               0.0        1440       0          0   20160329   \n",
              "1       12.5               1.0        5419       0          0   20160404   \n",
              "2        7.0               0.0        5045       0          0   20160308   \n",
              "3        7.0               0.0        4023       0          0   20160325   \n",
              "4       15.0               0.0        3103       0          0   20160309   \n",
              "\n",
              "         v_0       v_1       v_2       v_3       v_4       v_5       v_6  \\\n",
              "0  49.593127  5.246568  1.001130 -4.122264  0.737532  0.264405  0.121800   \n",
              "1  42.395926 -3.253950 -1.753754  3.646605 -0.725597  0.261745  0.000000   \n",
              "2  45.841370  4.704178  0.155391 -1.118443 -0.229160  0.260216  0.112081   \n",
              "3  46.440649  4.319155  0.428897 -2.037916 -0.234757  0.260466  0.106727   \n",
              "4  42.184604 -3.166234 -1.572058  2.604143  0.387498  0.250999  0.000000   \n",
              "\n",
              "        v_7       v_8       v_9      v_10      v_11      v_12      v_13  \\\n",
              "0  0.070899  0.106558  0.078867 -7.050969 -0.854626  4.800151  0.620011   \n",
              "1  0.096733  0.013705  0.052383  3.679418 -0.729039 -3.796107 -1.541230   \n",
              "2  0.078082  0.062078  0.050540 -4.926690  1.001106  0.826562  0.138226   \n",
              "3  0.081146  0.075971  0.048268 -4.864637  0.505493  1.870379  0.366038   \n",
              "4  0.077806  0.028600  0.081709  3.616475 -0.673236 -3.197685 -0.025678   \n",
              "\n",
              "       v_14  \n",
              "0 -3.664654  \n",
              "1 -0.757055  \n",
              "2  0.754033  \n",
              "3  1.312775  \n",
              "4 -0.101290  "
            ]
          },
          "metadata": {
            "tags": []
          },
          "execution_count": 9
        }
      ]
    },
    {
      "cell_type": "code",
      "metadata": {
        "id": "ID6ZlRZlpJ_V",
        "colab_type": "code",
        "outputId": "69e10522-9cc4-4f56-c40e-8c189033aba1",
        "colab": {
          "base_uri": "https://localhost:8080/",
          "height": 602
        }
      },
      "source": [
        "test_data.info()"
      ],
      "execution_count": 10,
      "outputs": [
        {
          "output_type": "stream",
          "text": [
            "<class 'pandas.core.frame.DataFrame'>\n",
            "RangeIndex: 50000 entries, 0 to 49999\n",
            "Data columns (total 30 columns):\n",
            "SaleID               50000 non-null int64\n",
            "name                 50000 non-null int64\n",
            "regDate              50000 non-null int64\n",
            "model                50000 non-null float64\n",
            "brand                50000 non-null int64\n",
            "bodyType             48587 non-null float64\n",
            "fuelType             47107 non-null float64\n",
            "gearbox              48090 non-null float64\n",
            "power                50000 non-null int64\n",
            "kilometer            50000 non-null float64\n",
            "notRepairedDamage    50000 non-null object\n",
            "regionCode           50000 non-null int64\n",
            "seller               50000 non-null int64\n",
            "offerType            50000 non-null int64\n",
            "creatDate            50000 non-null int64\n",
            "v_0                  50000 non-null float64\n",
            "v_1                  50000 non-null float64\n",
            "v_2                  50000 non-null float64\n",
            "v_3                  50000 non-null float64\n",
            "v_4                  50000 non-null float64\n",
            "v_5                  50000 non-null float64\n",
            "v_6                  50000 non-null float64\n",
            "v_7                  50000 non-null float64\n",
            "v_8                  50000 non-null float64\n",
            "v_9                  50000 non-null float64\n",
            "v_10                 50000 non-null float64\n",
            "v_11                 50000 non-null float64\n",
            "v_12                 50000 non-null float64\n",
            "v_13                 50000 non-null float64\n",
            "v_14                 50000 non-null float64\n",
            "dtypes: float64(20), int64(9), object(1)\n",
            "memory usage: 11.4+ MB\n"
          ],
          "name": "stdout"
        }
      ]
    },
    {
      "cell_type": "code",
      "metadata": {
        "id": "1M_Kk1YFpLQg",
        "colab_type": "code",
        "outputId": "586badbc-2f67-490d-a792-2e6984d8da47",
        "colab": {
          "base_uri": "https://localhost:8080/",
          "height": 306
        }
      },
      "source": [
        "test_data.describe()"
      ],
      "execution_count": 11,
      "outputs": [
        {
          "output_type": "execute_result",
          "data": {
            "text/html": [
              "<div>\n",
              "<style scoped>\n",
              "    .dataframe tbody tr th:only-of-type {\n",
              "        vertical-align: middle;\n",
              "    }\n",
              "\n",
              "    .dataframe tbody tr th {\n",
              "        vertical-align: top;\n",
              "    }\n",
              "\n",
              "    .dataframe thead th {\n",
              "        text-align: right;\n",
              "    }\n",
              "</style>\n",
              "<table border=\"1\" class=\"dataframe\">\n",
              "  <thead>\n",
              "    <tr style=\"text-align: right;\">\n",
              "      <th></th>\n",
              "      <th>SaleID</th>\n",
              "      <th>name</th>\n",
              "      <th>regDate</th>\n",
              "      <th>model</th>\n",
              "      <th>brand</th>\n",
              "      <th>bodyType</th>\n",
              "      <th>fuelType</th>\n",
              "      <th>gearbox</th>\n",
              "      <th>power</th>\n",
              "      <th>kilometer</th>\n",
              "      <th>regionCode</th>\n",
              "      <th>seller</th>\n",
              "      <th>offerType</th>\n",
              "      <th>creatDate</th>\n",
              "      <th>v_0</th>\n",
              "      <th>v_1</th>\n",
              "      <th>v_2</th>\n",
              "      <th>v_3</th>\n",
              "      <th>v_4</th>\n",
              "      <th>v_5</th>\n",
              "      <th>v_6</th>\n",
              "      <th>v_7</th>\n",
              "      <th>v_8</th>\n",
              "      <th>v_9</th>\n",
              "      <th>v_10</th>\n",
              "      <th>v_11</th>\n",
              "      <th>v_12</th>\n",
              "      <th>v_13</th>\n",
              "      <th>v_14</th>\n",
              "    </tr>\n",
              "  </thead>\n",
              "  <tbody>\n",
              "    <tr>\n",
              "      <th>count</th>\n",
              "      <td>50000.000000</td>\n",
              "      <td>50000.000000</td>\n",
              "      <td>5.000000e+04</td>\n",
              "      <td>50000.000000</td>\n",
              "      <td>50000.000000</td>\n",
              "      <td>48587.000000</td>\n",
              "      <td>47107.000000</td>\n",
              "      <td>48090.000000</td>\n",
              "      <td>50000.000000</td>\n",
              "      <td>50000.000000</td>\n",
              "      <td>50000.000000</td>\n",
              "      <td>50000.0</td>\n",
              "      <td>50000.0</td>\n",
              "      <td>5.000000e+04</td>\n",
              "      <td>50000.000000</td>\n",
              "      <td>50000.000000</td>\n",
              "      <td>50000.000000</td>\n",
              "      <td>50000.000000</td>\n",
              "      <td>50000.000000</td>\n",
              "      <td>50000.000000</td>\n",
              "      <td>50000.000000</td>\n",
              "      <td>50000.000000</td>\n",
              "      <td>50000.000000</td>\n",
              "      <td>50000.000000</td>\n",
              "      <td>50000.000000</td>\n",
              "      <td>50000.000000</td>\n",
              "      <td>50000.000000</td>\n",
              "      <td>50000.000000</td>\n",
              "      <td>50000.000000</td>\n",
              "    </tr>\n",
              "    <tr>\n",
              "      <th>mean</th>\n",
              "      <td>174999.500000</td>\n",
              "      <td>68542.223280</td>\n",
              "      <td>2.003393e+07</td>\n",
              "      <td>46.844520</td>\n",
              "      <td>8.056240</td>\n",
              "      <td>1.782185</td>\n",
              "      <td>0.373405</td>\n",
              "      <td>0.224350</td>\n",
              "      <td>119.883620</td>\n",
              "      <td>12.595580</td>\n",
              "      <td>2590.604820</td>\n",
              "      <td>0.0</td>\n",
              "      <td>0.0</td>\n",
              "      <td>2.016033e+07</td>\n",
              "      <td>44.418233</td>\n",
              "      <td>-0.037238</td>\n",
              "      <td>0.050534</td>\n",
              "      <td>0.084640</td>\n",
              "      <td>0.015001</td>\n",
              "      <td>0.248669</td>\n",
              "      <td>0.045021</td>\n",
              "      <td>0.122744</td>\n",
              "      <td>0.057997</td>\n",
              "      <td>0.062000</td>\n",
              "      <td>-0.017855</td>\n",
              "      <td>-0.013742</td>\n",
              "      <td>-0.013554</td>\n",
              "      <td>-0.003147</td>\n",
              "      <td>0.001516</td>\n",
              "    </tr>\n",
              "    <tr>\n",
              "      <th>std</th>\n",
              "      <td>14433.901067</td>\n",
              "      <td>61052.808133</td>\n",
              "      <td>5.368870e+04</td>\n",
              "      <td>49.469548</td>\n",
              "      <td>7.819477</td>\n",
              "      <td>1.760736</td>\n",
              "      <td>0.546442</td>\n",
              "      <td>0.417158</td>\n",
              "      <td>185.097387</td>\n",
              "      <td>3.908979</td>\n",
              "      <td>1876.970263</td>\n",
              "      <td>0.0</td>\n",
              "      <td>0.0</td>\n",
              "      <td>7.951521e+01</td>\n",
              "      <td>2.429950</td>\n",
              "      <td>3.642562</td>\n",
              "      <td>2.856341</td>\n",
              "      <td>2.026510</td>\n",
              "      <td>1.193026</td>\n",
              "      <td>0.044601</td>\n",
              "      <td>0.051766</td>\n",
              "      <td>0.195972</td>\n",
              "      <td>0.029211</td>\n",
              "      <td>0.035653</td>\n",
              "      <td>3.747985</td>\n",
              "      <td>3.231258</td>\n",
              "      <td>2.515962</td>\n",
              "      <td>1.286597</td>\n",
              "      <td>1.027360</td>\n",
              "    </tr>\n",
              "    <tr>\n",
              "      <th>min</th>\n",
              "      <td>150000.000000</td>\n",
              "      <td>0.000000</td>\n",
              "      <td>1.991000e+07</td>\n",
              "      <td>0.000000</td>\n",
              "      <td>0.000000</td>\n",
              "      <td>0.000000</td>\n",
              "      <td>0.000000</td>\n",
              "      <td>0.000000</td>\n",
              "      <td>0.000000</td>\n",
              "      <td>0.500000</td>\n",
              "      <td>0.000000</td>\n",
              "      <td>0.0</td>\n",
              "      <td>0.0</td>\n",
              "      <td>2.015061e+07</td>\n",
              "      <td>28.987024</td>\n",
              "      <td>-4.137733</td>\n",
              "      <td>-4.205728</td>\n",
              "      <td>-5.638184</td>\n",
              "      <td>-4.287718</td>\n",
              "      <td>0.000000</td>\n",
              "      <td>0.000000</td>\n",
              "      <td>0.000000</td>\n",
              "      <td>0.000000</td>\n",
              "      <td>0.000000</td>\n",
              "      <td>-9.160049</td>\n",
              "      <td>-5.411964</td>\n",
              "      <td>-8.916949</td>\n",
              "      <td>-4.123333</td>\n",
              "      <td>-6.112667</td>\n",
              "    </tr>\n",
              "    <tr>\n",
              "      <th>25%</th>\n",
              "      <td>162499.750000</td>\n",
              "      <td>11203.500000</td>\n",
              "      <td>1.999091e+07</td>\n",
              "      <td>10.000000</td>\n",
              "      <td>1.000000</td>\n",
              "      <td>0.000000</td>\n",
              "      <td>0.000000</td>\n",
              "      <td>0.000000</td>\n",
              "      <td>75.000000</td>\n",
              "      <td>12.500000</td>\n",
              "      <td>1030.000000</td>\n",
              "      <td>0.0</td>\n",
              "      <td>0.0</td>\n",
              "      <td>2.016031e+07</td>\n",
              "      <td>43.139621</td>\n",
              "      <td>-3.191909</td>\n",
              "      <td>-0.971266</td>\n",
              "      <td>-1.453453</td>\n",
              "      <td>-0.928089</td>\n",
              "      <td>0.243762</td>\n",
              "      <td>0.000044</td>\n",
              "      <td>0.062644</td>\n",
              "      <td>0.035084</td>\n",
              "      <td>0.033714</td>\n",
              "      <td>-3.700121</td>\n",
              "      <td>-1.971325</td>\n",
              "      <td>-1.876703</td>\n",
              "      <td>-1.060428</td>\n",
              "      <td>-0.437920</td>\n",
              "    </tr>\n",
              "    <tr>\n",
              "      <th>50%</th>\n",
              "      <td>174999.500000</td>\n",
              "      <td>52248.500000</td>\n",
              "      <td>2.003091e+07</td>\n",
              "      <td>29.000000</td>\n",
              "      <td>6.000000</td>\n",
              "      <td>1.000000</td>\n",
              "      <td>0.000000</td>\n",
              "      <td>0.000000</td>\n",
              "      <td>109.000000</td>\n",
              "      <td>15.000000</td>\n",
              "      <td>2219.000000</td>\n",
              "      <td>0.0</td>\n",
              "      <td>0.0</td>\n",
              "      <td>2.016032e+07</td>\n",
              "      <td>44.611084</td>\n",
              "      <td>-3.050756</td>\n",
              "      <td>-0.388117</td>\n",
              "      <td>0.097881</td>\n",
              "      <td>-0.070225</td>\n",
              "      <td>0.257877</td>\n",
              "      <td>0.000815</td>\n",
              "      <td>0.095828</td>\n",
              "      <td>0.057084</td>\n",
              "      <td>0.058764</td>\n",
              "      <td>1.613212</td>\n",
              "      <td>-0.355843</td>\n",
              "      <td>-0.142779</td>\n",
              "      <td>-0.035956</td>\n",
              "      <td>0.138799</td>\n",
              "    </tr>\n",
              "    <tr>\n",
              "      <th>75%</th>\n",
              "      <td>187499.250000</td>\n",
              "      <td>118856.500000</td>\n",
              "      <td>2.007110e+07</td>\n",
              "      <td>65.000000</td>\n",
              "      <td>13.000000</td>\n",
              "      <td>3.000000</td>\n",
              "      <td>1.000000</td>\n",
              "      <td>0.000000</td>\n",
              "      <td>150.000000</td>\n",
              "      <td>15.000000</td>\n",
              "      <td>3857.000000</td>\n",
              "      <td>0.0</td>\n",
              "      <td>0.0</td>\n",
              "      <td>2.016033e+07</td>\n",
              "      <td>45.992639</td>\n",
              "      <td>3.997323</td>\n",
              "      <td>0.240548</td>\n",
              "      <td>1.562700</td>\n",
              "      <td>0.863731</td>\n",
              "      <td>0.265328</td>\n",
              "      <td>0.102025</td>\n",
              "      <td>0.125438</td>\n",
              "      <td>0.079077</td>\n",
              "      <td>0.087489</td>\n",
              "      <td>2.832708</td>\n",
              "      <td>1.262914</td>\n",
              "      <td>1.764335</td>\n",
              "      <td>0.941469</td>\n",
              "      <td>0.681163</td>\n",
              "    </tr>\n",
              "    <tr>\n",
              "      <th>max</th>\n",
              "      <td>199999.000000</td>\n",
              "      <td>196805.000000</td>\n",
              "      <td>2.015121e+07</td>\n",
              "      <td>246.000000</td>\n",
              "      <td>39.000000</td>\n",
              "      <td>7.000000</td>\n",
              "      <td>6.000000</td>\n",
              "      <td>1.000000</td>\n",
              "      <td>20000.000000</td>\n",
              "      <td>15.000000</td>\n",
              "      <td>8121.000000</td>\n",
              "      <td>0.0</td>\n",
              "      <td>0.0</td>\n",
              "      <td>2.016041e+07</td>\n",
              "      <td>51.751684</td>\n",
              "      <td>7.553517</td>\n",
              "      <td>18.394570</td>\n",
              "      <td>9.381599</td>\n",
              "      <td>5.270150</td>\n",
              "      <td>0.291618</td>\n",
              "      <td>0.153265</td>\n",
              "      <td>1.358813</td>\n",
              "      <td>0.156355</td>\n",
              "      <td>0.214775</td>\n",
              "      <td>12.338872</td>\n",
              "      <td>18.856218</td>\n",
              "      <td>12.950498</td>\n",
              "      <td>5.913273</td>\n",
              "      <td>2.624622</td>\n",
              "    </tr>\n",
              "  </tbody>\n",
              "</table>\n",
              "</div>"
            ],
            "text/plain": [
              "              SaleID           name       regDate         model         brand  \\\n",
              "count   50000.000000   50000.000000  5.000000e+04  50000.000000  50000.000000   \n",
              "mean   174999.500000   68542.223280  2.003393e+07     46.844520      8.056240   \n",
              "std     14433.901067   61052.808133  5.368870e+04     49.469548      7.819477   \n",
              "min    150000.000000       0.000000  1.991000e+07      0.000000      0.000000   \n",
              "25%    162499.750000   11203.500000  1.999091e+07     10.000000      1.000000   \n",
              "50%    174999.500000   52248.500000  2.003091e+07     29.000000      6.000000   \n",
              "75%    187499.250000  118856.500000  2.007110e+07     65.000000     13.000000   \n",
              "max    199999.000000  196805.000000  2.015121e+07    246.000000     39.000000   \n",
              "\n",
              "           bodyType      fuelType       gearbox         power     kilometer  \\\n",
              "count  48587.000000  47107.000000  48090.000000  50000.000000  50000.000000   \n",
              "mean       1.782185      0.373405      0.224350    119.883620     12.595580   \n",
              "std        1.760736      0.546442      0.417158    185.097387      3.908979   \n",
              "min        0.000000      0.000000      0.000000      0.000000      0.500000   \n",
              "25%        0.000000      0.000000      0.000000     75.000000     12.500000   \n",
              "50%        1.000000      0.000000      0.000000    109.000000     15.000000   \n",
              "75%        3.000000      1.000000      0.000000    150.000000     15.000000   \n",
              "max        7.000000      6.000000      1.000000  20000.000000     15.000000   \n",
              "\n",
              "         regionCode   seller  offerType     creatDate           v_0  \\\n",
              "count  50000.000000  50000.0    50000.0  5.000000e+04  50000.000000   \n",
              "mean    2590.604820      0.0        0.0  2.016033e+07     44.418233   \n",
              "std     1876.970263      0.0        0.0  7.951521e+01      2.429950   \n",
              "min        0.000000      0.0        0.0  2.015061e+07     28.987024   \n",
              "25%     1030.000000      0.0        0.0  2.016031e+07     43.139621   \n",
              "50%     2219.000000      0.0        0.0  2.016032e+07     44.611084   \n",
              "75%     3857.000000      0.0        0.0  2.016033e+07     45.992639   \n",
              "max     8121.000000      0.0        0.0  2.016041e+07     51.751684   \n",
              "\n",
              "                v_1           v_2           v_3           v_4           v_5  \\\n",
              "count  50000.000000  50000.000000  50000.000000  50000.000000  50000.000000   \n",
              "mean      -0.037238      0.050534      0.084640      0.015001      0.248669   \n",
              "std        3.642562      2.856341      2.026510      1.193026      0.044601   \n",
              "min       -4.137733     -4.205728     -5.638184     -4.287718      0.000000   \n",
              "25%       -3.191909     -0.971266     -1.453453     -0.928089      0.243762   \n",
              "50%       -3.050756     -0.388117      0.097881     -0.070225      0.257877   \n",
              "75%        3.997323      0.240548      1.562700      0.863731      0.265328   \n",
              "max        7.553517     18.394570      9.381599      5.270150      0.291618   \n",
              "\n",
              "                v_6           v_7           v_8           v_9          v_10  \\\n",
              "count  50000.000000  50000.000000  50000.000000  50000.000000  50000.000000   \n",
              "mean       0.045021      0.122744      0.057997      0.062000     -0.017855   \n",
              "std        0.051766      0.195972      0.029211      0.035653      3.747985   \n",
              "min        0.000000      0.000000      0.000000      0.000000     -9.160049   \n",
              "25%        0.000044      0.062644      0.035084      0.033714     -3.700121   \n",
              "50%        0.000815      0.095828      0.057084      0.058764      1.613212   \n",
              "75%        0.102025      0.125438      0.079077      0.087489      2.832708   \n",
              "max        0.153265      1.358813      0.156355      0.214775     12.338872   \n",
              "\n",
              "               v_11          v_12          v_13          v_14  \n",
              "count  50000.000000  50000.000000  50000.000000  50000.000000  \n",
              "mean      -0.013742     -0.013554     -0.003147      0.001516  \n",
              "std        3.231258      2.515962      1.286597      1.027360  \n",
              "min       -5.411964     -8.916949     -4.123333     -6.112667  \n",
              "25%       -1.971325     -1.876703     -1.060428     -0.437920  \n",
              "50%       -0.355843     -0.142779     -0.035956      0.138799  \n",
              "75%        1.262914      1.764335      0.941469      0.681163  \n",
              "max       18.856218     12.950498      5.913273      2.624622  "
            ]
          },
          "metadata": {
            "tags": []
          },
          "execution_count": 11
        }
      ]
    },
    {
      "cell_type": "markdown",
      "metadata": {
        "id": "_-QFe-ZnpPhU",
        "colab_type": "text"
      },
      "source": [
        "## 查看数据缺失情况\n",
        "统计每列缺失值所占比例"
      ]
    },
    {
      "cell_type": "code",
      "metadata": {
        "id": "FXZtgtu7pMqG",
        "colab_type": "code",
        "colab": {}
      },
      "source": [
        "def stat_missing_val(df):\n",
        "  sum_miss = df.isnull().sum()\n",
        "  print('missing value statistics')\n",
        "  for i in range(df.shape[1]):\n",
        "        \n",
        "    count_miss = df.iloc[:, i].isnull().sum()\n",
        "    percent_miss = count_miss / len(df)\n",
        "    if count_miss > 0:\n",
        "      print('-%s: %d/%d, missing percent: %.2f'%(df.columns[i], count_miss, len(df), 100 * percent_miss))\n",
        "        "
      ],
      "execution_count": 0,
      "outputs": []
    },
    {
      "cell_type": "code",
      "metadata": {
        "id": "r8aRj3aTpVuM",
        "colab_type": "code",
        "outputId": "c33b8dec-f236-45ea-9851-369c1b466dc2",
        "colab": {
          "base_uri": "https://localhost:8080/",
          "height": 100
        }
      },
      "source": [
        "# 查看训练数据缺失情况\n",
        "stat_missing_val(train_data)"
      ],
      "execution_count": 13,
      "outputs": [
        {
          "output_type": "stream",
          "text": [
            "missing value statistics\n",
            "-model: 1/150000, missing percent: 0.00\n",
            "-bodyType: 4506/150000, missing percent: 3.00\n",
            "-fuelType: 8680/150000, missing percent: 5.79\n",
            "-gearbox: 5981/150000, missing percent: 3.99\n"
          ],
          "name": "stdout"
        }
      ]
    },
    {
      "cell_type": "code",
      "metadata": {
        "id": "5w8IibskpXSP",
        "colab_type": "code",
        "outputId": "7c8d41ef-1695-4ffe-9aa5-a3972d907d3e",
        "colab": {
          "base_uri": "https://localhost:8080/",
          "height": 84
        }
      },
      "source": [
        "# 查看测试数据缺失情况\n",
        "stat_missing_val(test_data)"
      ],
      "execution_count": 14,
      "outputs": [
        {
          "output_type": "stream",
          "text": [
            "missing value statistics\n",
            "-bodyType: 1413/50000, missing percent: 2.83\n",
            "-fuelType: 2893/50000, missing percent: 5.79\n",
            "-gearbox: 1910/50000, missing percent: 3.82\n"
          ],
          "name": "stdout"
        }
      ]
    },
    {
      "cell_type": "markdown",
      "metadata": {
        "id": "3d5ylaqRpe_p",
        "colab_type": "text"
      },
      "source": [
        "可以看到，train_data中有4个特征包含缺失值，test_data中有3个特征包含缺失值，缺失情况基本一致。缺失值相对较少，可以使用其他值进行填充（如果缺失值较多，比如占比超过50%，则可以直接删去）。"
      ]
    },
    {
      "cell_type": "markdown",
      "metadata": {
        "id": "6iYW9zGFphLc",
        "colab_type": "text"
      },
      "source": [
        "## 异常值检测\n",
        "从数据的info信息中可以得到，在所有的特征中，只有notRepairedDamage特征为非数值类型，这里我们先观察一下它"
      ]
    },
    {
      "cell_type": "code",
      "metadata": {
        "id": "LQqTs9bPpY45",
        "colab_type": "code",
        "outputId": "4e659e9f-04ec-4c50-c004-633869d44879",
        "colab": {
          "base_uri": "https://localhost:8080/",
          "height": 84
        }
      },
      "source": [
        "train_data['notRepairedDamage'].value_counts()"
      ],
      "execution_count": 15,
      "outputs": [
        {
          "output_type": "execute_result",
          "data": {
            "text/plain": [
              "0.0    111361\n",
              "-       24324\n",
              "1.0     14315\n",
              "Name: notRepairedDamage, dtype: int64"
            ]
          },
          "metadata": {
            "tags": []
          },
          "execution_count": 15
        }
      ]
    },
    {
      "cell_type": "markdown",
      "metadata": {
        "id": "QoZK6de3pnGG",
        "colab_type": "text"
      },
      "source": [
        "可以看出-也是空值，这里先把-全部填充为np.nan,后续再进行处理"
      ]
    },
    {
      "cell_type": "markdown",
      "metadata": {
        "id": "MKUf79kdppfY",
        "colab_type": "text"
      },
      "source": [
        "## 预测值的分布情况\n",
        "我们首先来看一下预测值(price)的分布情况，直方图能很好的反映单个变量的分布情况，我们使用matplotlib绘制直方图"
      ]
    },
    {
      "cell_type": "code",
      "metadata": {
        "id": "RbGHLsegplKx",
        "colab_type": "code",
        "colab": {
          "base_uri": "https://localhost:8080/",
          "height": 416
        },
        "outputId": "d11b181b-0423-4b90-af09-cd088e73bd95"
      },
      "source": [
        "#设置默认字体大小\n",
        "plt.rcParams['font.size'] = 14\n",
        "_, ax = plt.subplots(figsize=(8, 6))\n",
        "ax.hist(train_data['price'], bins=100, edgecolor='blue')\n",
        "ax.set_xlabel('price')\n",
        "ax.set_ylabel('Counts')\n",
        "ax.set_title('price distribution')\n",
        "plt.show()"
      ],
      "execution_count": 20,
      "outputs": [
        {
          "output_type": "display_data",
          "data": {
            "image/png": "[encoded data removed]",
            "text/plain": [
              "<Figure size 576x432 with 1 Axes>"
            ]
          },
          "metadata": {
            "tags": []
          }
        }
      ]
    },
    {
      "cell_type": "markdown",
      "metadata": {
        "id": "DcKmf0u9pvGl",
        "colab_type": "text"
      },
      "source": [
        "从price的直方图可以看出，price并不符合我们常见的正态分布，我们尝试使用其他不同的分布来拟合数据"
      ]
    },
    {
      "cell_type": "code",
      "metadata": {
        "id": "Rqx9GLs1pvjw",
        "colab_type": "code",
        "colab": {
          "base_uri": "https://localhost:8080/",
          "height": 887
        },
        "outputId": "e6f4a26f-b0a2-4f30-f28c-cfea259b5056"
      },
      "source": [
        "import scipy.stats as st\n",
        "# 无界约翰逊分布\n",
        "plt.figure()\n",
        "plt.title('Johnson SU distribution of price')\n",
        "sns.distplot(train_data['price'], kde=False, fit=st.johnsonsu)\n",
        "\n",
        "# log正态分布\n",
        "plt.figure()\n",
        "plt.title('Log norm distribution of price')\n",
        "sns.distplot(train_data['price'], kde=False, fit=st.lognorm)\n",
        "plt.show()\n",
        "\n",
        "# 卡方分布\n",
        "plt.figure()\n",
        "plt.title('Chi2 distribution of price')\n",
        "sns.distplot(train_data['price'], kde=False, fit=st.chi2)\n",
        "plt.show()"
      ],
      "execution_count": 21,
      "outputs": [
        {
          "output_type": "display_data",
          "data": {
            "image/png": "[encoded data removed]",
            "text/plain": [
              "<Figure size 432x288 with 1 Axes>"
            ]
          },
          "metadata": {
            "tags": []
          }
        },
        {
          "output_type": "display_data",
          "data": {
            "image/png": "[encoded data removed]",
            "text/plain": [
              "<Figure size 432x288 with 1 Axes>"
            ]
          },
          "metadata": {
            "tags": []
          }
        },
        {
          "output_type": "display_data",
          "data": {
            "image/png": "[encoded data removed]",
            "text/plain": [
              "<Figure size 432x288 with 1 Axes>"
            ]
          },
          "metadata": {
            "tags": []
          }
        }
      ]
    },
    {
      "cell_type": "markdown",
      "metadata": {
        "id": "nWXz5o8YsgAE",
        "colab_type": "text"
      },
      "source": [
        "价格(price)并不服从正态分布，因此回归之前需对其进行转换，而无界约翰逊分布对于数据的拟合效果最好，可用于将非正态分布的数据转化为正态分布的数据。"
      ]
    },
    {
      "cell_type": "code",
      "metadata": {
        "id": "Y97B8ggxprAI",
        "colab_type": "code",
        "colab": {
          "base_uri": "https://localhost:8080/",
          "height": 50
        },
        "outputId": "cc2f7575-afe3-468e-8460-ff8e3a7d3861"
      },
      "source": [
        "# 观察price的偏度和峰度\n",
        "print('Skewness(偏度): ',train_data['price'].skew())\n",
        "print('Curtosis(峰度): ',train_data['price'].kurt())"
      ],
      "execution_count": 22,
      "outputs": [
        {
          "output_type": "stream",
          "text": [
            "Skewness(偏度):  3.3464867626369608\n",
            "Curtosis(峰度):  18.995183355632562\n"
          ],
          "name": "stdout"
        }
      ]
    },
    {
      "cell_type": "markdown",
      "metadata": {
        "id": "JGMB0hdCsmGn",
        "colab_type": "text"
      },
      "source": [
        "## 特征分析\n",
        "\n",
        "特征名\n",
        "- name - 汽车编码\n",
        "- regDate - 汽车注册时间\n",
        "- model - 车型编码\n",
        "- brand - 品牌\n",
        "- bodyType - 车身类型\n",
        "- fuelType - 燃油类型\n",
        "- gearbox - 变速箱\n",
        "- power - 汽车功率\n",
        "- kilometer - 汽车行驶公里\n",
        "- notRepairedDamage - 汽车有尚未修复的损坏\n",
        "- regionCode - 看车地区编码\n",
        "- seller - 销售方 【以删】\n",
        "- offerType - 报价类型 【以删】\n",
        "- creatDate - 广告发布时间\n",
        "- price - 汽车价格\n",
        "- v_0', 'v_1', 'v_2', 'v_3', 'v_4', 'v_5', 'v_6', 'v_7', 'v_8', 'v_9', 'v_10', 'v_11', 'v_12', 'v_13','v_14'【匿名特征，包含v0-14在内15个匿名特征】"
      ]
    },
    {
      "cell_type": "code",
      "metadata": {
        "id": "jpYCmNJXsiOe",
        "colab_type": "code",
        "colab": {
          "base_uri": "https://localhost:8080/",
          "height": 50
        },
        "outputId": "4353156a-ee3b-4582-ec87-000b8ee02ef9"
      },
      "source": [
        "digit_feats = [i for i in train_data.columns if i.startswith('v_')]\n",
        "digit_feats.extend(['kilometer', 'power'])\n",
        "cate_feats = [i for i in train_data.columns if i not in digit_feats and i not in 'price']\n",
        "print(cate_feats)\n",
        "print(digit_feats)"
      ],
      "execution_count": 24,
      "outputs": [
        {
          "output_type": "stream",
          "text": [
            "['SaleID', 'name', 'regDate', 'model', 'brand', 'bodyType', 'fuelType', 'gearbox', 'notRepairedDamage', 'regionCode', 'seller', 'offerType', 'creatDate']\n",
            "['v_0', 'v_1', 'v_2', 'v_3', 'v_4', 'v_5', 'v_6', 'v_7', 'v_8', 'v_9', 'v_10', 'v_11', 'v_12', 'v_13', 'v_14', 'kilometer', 'power']\n"
          ],
          "name": "stdout"
        }
      ]
    },
    {
      "cell_type": "markdown",
      "metadata": {
        "id": "C3qo1Ek2suH1",
        "colab_type": "text"
      },
      "source": [
        "数字特征分析"
      ]
    },
    {
      "cell_type": "code",
      "metadata": {
        "id": "MgZvWWAfqYwo",
        "colab_type": "code",
        "colab": {
          "base_uri": "https://localhost:8080/",
          "height": 334
        },
        "outputId": "73e52f7f-3155-4ee4-e198-bf53d9c26926"
      },
      "source": [
        "# 相关性分析，观察混淆矩阵\n",
        "digit_feats.append('price')\n",
        "corrs = train_data[digit_feats].corr()\n",
        "print(corrs['price'].sort_values(ascending=False))"
      ],
      "execution_count": 25,
      "outputs": [
        {
          "output_type": "stream",
          "text": [
            "price        1.000000\n",
            "v_12         0.692823\n",
            "v_8          0.685798\n",
            "v_0          0.628397\n",
            "power        0.219834\n",
            "v_5          0.164317\n",
            "v_2          0.085322\n",
            "v_6          0.068970\n",
            "v_1          0.060914\n",
            "v_14         0.035911\n",
            "v_13        -0.013993\n",
            "v_7         -0.053024\n",
            "v_4         -0.147085\n",
            "v_9         -0.206205\n",
            "v_10        -0.246175\n",
            "v_11        -0.275320\n",
            "kilometer   -0.440519\n",
            "v_3         -0.730946\n",
            "Name: price, dtype: float64\n"
          ],
          "name": "stdout"
        }
      ]
    },
    {
      "cell_type": "code",
      "metadata": {
        "id": "oVKQKnZvsvhC",
        "colab_type": "code",
        "colab": {
          "base_uri": "https://localhost:8080/",
          "height": 605
        },
        "outputId": "ff611bc3-331b-43b8-dfd6-acdc0a50d99c"
      },
      "source": [
        "# 绘制热力图\n",
        "_, ax = plt.subplots(figsize=(10, 10))\n",
        "sns.heatmap(corrs, square=True, vmax=0.8)\n",
        "ax.set_title('Heatmap of digits feature with price')\n",
        "plt.show()"
      ],
      "execution_count": 26,
      "outputs": [
        {
          "output_type": "display_data",
          "data": {
            "image/png": "[encoded data removed]",
            "text/plain": [
              "<Figure size 720x720 with 2 Axes>"
            ]
          },
          "metadata": {
            "tags": []
          }
        }
      ]
    },
    {
      "cell_type": "code",
      "metadata": {
        "id": "vpwCDr0isxIY",
        "colab_type": "code",
        "colab": {
          "base_uri": "https://localhost:8080/",
          "height": 1000
        },
        "outputId": "2f04efed-8a31-4eef-fe4f-7324f31fead0"
      },
      "source": [
        "f = pd.melt(train_data, value_vars=digit_feats)\n",
        "g = sns.FacetGrid(f, col=\"variable\",  col_wrap=2, sharex=False, sharey=False)\n",
        "g = g.map(sns.distplot, \"value\")"
      ],
      "execution_count": 27,
      "outputs": [
        {
          "output_type": "display_data",
          "data": {
            "image/png": "[encoded data removed]",
            "text/plain": [
              "<Figure size 432x1944 with 18 Axes>"
            ]
          },
          "metadata": {
            "tags": []
          }
        }
      ]
    },
    {
      "cell_type": "markdown",
      "metadata": {
        "id": "_Znwd2f0s5WJ",
        "colab_type": "text"
      },
      "source": [
        "可以看出，在数值型特征中，匿名变量相对分布更均匀，应该具备更好的预测能力"
      ]
    },
    {
      "cell_type": "code",
      "metadata": {
        "id": "pZk47kd5szf4",
        "colab_type": "code",
        "colab": {
          "base_uri": "https://localhost:8080/",
          "height": 50
        },
        "outputId": "67ed844a-aa3a-4c69-dbc4-7752360fbc39"
      },
      "source": [
        "# 数值特征之间相关性的可视化\n",
        "# columns = ['price', 'v_12', 'v_8' , 'v_0', 'power', 'v_5',  'v_2', 'v_6', 'v_1', 'v_14']\n",
        "sns.pairplot(train_data[digit_feats], size = 2 ,kind ='scatter',diag_kind='kde')\n",
        "plt.show()"
      ],
      "execution_count": 0,
      "outputs": [
        {
          "output_type": "stream",
          "text": [
            "/usr/local/lib/python3.6/dist-packages/seaborn/axisgrid.py:2079: UserWarning: The `size` parameter has been renamed to `height`; please update your code.\n",
            "  warnings.warn(msg, UserWarning)\n"
          ],
          "name": "stderr"
        }
      ]
    },
    {
      "cell_type": "code",
      "metadata": {
        "id": "ixzwwHJ-s_LC",
        "colab_type": "code",
        "colab": {}
      },
      "source": [
        "## 5) 多变量互相回归关系可视化\n",
        "fig, ((ax1, ax2), (ax3, ax4), (ax5, ax6), (ax7, ax8), (ax9, ax10)) = plt.subplots(nrows=5, ncols=2, figsize=(24, 20))\n",
        "# ['v_12', 'v_8' , 'v_0', 'power', 'v_5',  'v_2', 'v_6', 'v_1', 'v_14']\n",
        "v_12_scatter_plot = pd.concat([train_data['price'],train_data['v_12']],axis = 1)\n",
        "sns.regplot(x='v_12',y = 'price', data = v_12_scatter_plot,scatter= True, fit_reg=True, ax=ax1)\n",
        "\n",
        "v_8_scatter_plot = pd.concat([train_data['price'],train_data['v_8']],axis = 1)\n",
        "sns.regplot(x='v_8',y = 'price',data = v_8_scatter_plot,scatter= True, fit_reg=True, ax=ax2)\n",
        "\n",
        "v_0_scatter_plot = pd.concat([train_data['price'],train_data['v_0']],axis = 1)\n",
        "sns.regplot(x='v_0',y = 'price',data = v_0_scatter_plot,scatter= True, fit_reg=True, ax=ax3)\n",
        "\n",
        "power_scatter_plot = pd.concat([train_data['price'],train_data['power']],axis = 1)\n",
        "sns.regplot(x='power',y = 'price',data = power_scatter_plot,scatter= True, fit_reg=True, ax=ax4)\n",
        "\n",
        "v_5_scatter_plot = pd.concat([train_data['price'],train_data['v_5']],axis = 1)\n",
        "sns.regplot(x='v_5',y = 'price',data = v_5_scatter_plot,scatter= True, fit_reg=True, ax=ax5)\n",
        "\n",
        "v_2_scatter_plot = pd.concat([train_data['price'],train_data['v_2']],axis = 1)\n",
        "sns.regplot(x='v_2',y = 'price',data = v_2_scatter_plot,scatter= True, fit_reg=True, ax=ax6)\n",
        "\n",
        "v_6_scatter_plot = pd.concat([train_data['price'],train_data['v_6']],axis = 1)\n",
        "sns.regplot(x='v_6',y = 'price',data = v_6_scatter_plot,scatter= True, fit_reg=True, ax=ax7)\n",
        "\n",
        "v_1_scatter_plot = pd.concat([train_data['price'],train_data['v_1']],axis = 1)\n",
        "sns.regplot(x='v_1',y = 'price',data = v_1_scatter_plot,scatter= True, fit_reg=True, ax=ax8)\n",
        "\n",
        "v_14_scatter_plot = pd.concat([train_data['price'],train_data['v_14']],axis = 1)\n",
        "sns.regplot(x='v_14',y = 'price',data = v_14_scatter_plot,scatter= True, fit_reg=True, ax=ax9)\n",
        "\n",
        "v_13_scatter_plot = pd.concat([train_data['price'],train_data['v_13']],axis = 1)\n",
        "sns.regplot(x='v_13',y = 'price',data = v_13_scatter_plot,scatter= True, fit_reg=True, ax=ax10)\n"
      ],
      "execution_count": 0,
      "outputs": []
    },
    {
      "cell_type": "markdown",
      "metadata": {
        "id": "Qg2GorY6tKRV",
        "colab_type": "text"
      },
      "source": [
        "类别特征分析"
      ]
    },
    {
      "cell_type": "code",
      "metadata": {
        "id": "sv0t6-uftGOa",
        "colab_type": "code",
        "colab": {}
      },
      "source": [
        "## 2) 类别特征箱形图可视化\n",
        "\n",
        "# 因为 name和 regionCode的类别太稀疏了，这里我们把不稀疏的几类画一下\n",
        "categorical_features = ['model',\n",
        " 'brand',\n",
        " 'bodyType',\n",
        " 'fuelType',\n",
        " 'gearbox',\n",
        " 'notRepairedDamage']\n",
        "for c in categorical_features:\n",
        "  train_data[c] = train_data[c].astype('category')\n",
        "  if train_data[c].isnull().any():\n",
        "    train_data[c] = train_data[c].cat.add_categories(['MISSING'])\n",
        "    train_data[c] = train_data[c].fillna('MISSING')\n",
        "\n",
        "def boxplot(x, y):\n",
        "  sns.boxplot(x=x, y=y)\n",
        "  x=plt.xticks(rotation=90)\n",
        "\n",
        "f = pd.melt(train_data, id_vars=['price'], value_vars=categorical_features)\n",
        "g = sns.FacetGrid(f, col=\"variable\",  col_wrap=2, sharex=False, sharey=False, size=5)\n",
        "g = g.map(boxplot, \"value\", \"price\")"
      ],
      "execution_count": 0,
      "outputs": []
    },
    {
      "cell_type": "code",
      "metadata": {
        "id": "kiAF3CT9tj9_",
        "colab_type": "code",
        "colab": {}
      },
      "source": [
        ""
      ],
      "execution_count": 0,
      "outputs": []
    }
  ]
}